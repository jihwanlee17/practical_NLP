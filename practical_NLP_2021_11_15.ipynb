{
 "cells": [
  {
   "cell_type": "code",
   "execution_count": 51,
   "metadata": {
    "colab": {
     "base_uri": "https://localhost:8080/"
    },
    "id": "QS20-2q79IBW",
    "outputId": "108d9c2d-8ee1-4589-c0fe-7333cdc40e8e"
   },
   "outputs": [
    {
     "name": "stdout",
     "output_type": "stream",
     "text": [
      "Collecting konlpy\n",
      "  Downloading konlpy-0.5.2-py2.py3-none-any.whl (19.4 MB)\n",
      "\u001b[K     |████████████████████████████████| 19.4 MB 1.2 MB/s \n",
      "\u001b[?25hCollecting colorama\n",
      "  Downloading colorama-0.4.4-py2.py3-none-any.whl (16 kB)\n",
      "Collecting JPype1>=0.7.0\n",
      "  Downloading JPype1-1.3.0-cp37-cp37m-manylinux_2_5_x86_64.manylinux1_x86_64.whl (448 kB)\n",
      "\u001b[K     |████████████████████████████████| 448 kB 49.0 MB/s \n",
      "\u001b[?25hRequirement already satisfied: tweepy>=3.7.0 in /usr/local/lib/python3.7/dist-packages (from konlpy) (3.10.0)\n",
      "Requirement already satisfied: lxml>=4.1.0 in /usr/local/lib/python3.7/dist-packages (from konlpy) (4.2.6)\n",
      "Collecting beautifulsoup4==4.6.0\n",
      "  Downloading beautifulsoup4-4.6.0-py3-none-any.whl (86 kB)\n",
      "\u001b[K     |████████████████████████████████| 86 kB 5.2 MB/s \n",
      "\u001b[?25hRequirement already satisfied: numpy>=1.6 in /usr/local/lib/python3.7/dist-packages (from konlpy) (1.19.5)\n",
      "Requirement already satisfied: typing-extensions in /usr/local/lib/python3.7/dist-packages (from JPype1>=0.7.0->konlpy) (3.10.0.2)\n",
      "Requirement already satisfied: six>=1.10.0 in /usr/local/lib/python3.7/dist-packages (from tweepy>=3.7.0->konlpy) (1.15.0)\n",
      "Requirement already satisfied: requests[socks]>=2.11.1 in /usr/local/lib/python3.7/dist-packages (from tweepy>=3.7.0->konlpy) (2.23.0)\n",
      "Requirement already satisfied: requests-oauthlib>=0.7.0 in /usr/local/lib/python3.7/dist-packages (from tweepy>=3.7.0->konlpy) (1.3.0)\n",
      "Requirement already satisfied: oauthlib>=3.0.0 in /usr/local/lib/python3.7/dist-packages (from requests-oauthlib>=0.7.0->tweepy>=3.7.0->konlpy) (3.1.1)\n",
      "Requirement already satisfied: urllib3!=1.25.0,!=1.25.1,<1.26,>=1.21.1 in /usr/local/lib/python3.7/dist-packages (from requests[socks]>=2.11.1->tweepy>=3.7.0->konlpy) (1.24.3)\n",
      "Requirement already satisfied: idna<3,>=2.5 in /usr/local/lib/python3.7/dist-packages (from requests[socks]>=2.11.1->tweepy>=3.7.0->konlpy) (2.10)\n",
      "Requirement already satisfied: certifi>=2017.4.17 in /usr/local/lib/python3.7/dist-packages (from requests[socks]>=2.11.1->tweepy>=3.7.0->konlpy) (2021.10.8)\n",
      "Requirement already satisfied: chardet<4,>=3.0.2 in /usr/local/lib/python3.7/dist-packages (from requests[socks]>=2.11.1->tweepy>=3.7.0->konlpy) (3.0.4)\n",
      "Requirement already satisfied: PySocks!=1.5.7,>=1.5.6 in /usr/local/lib/python3.7/dist-packages (from requests[socks]>=2.11.1->tweepy>=3.7.0->konlpy) (1.7.1)\n",
      "Installing collected packages: JPype1, colorama, beautifulsoup4, konlpy\n",
      "  Attempting uninstall: beautifulsoup4\n",
      "    Found existing installation: beautifulsoup4 4.6.3\n",
      "    Uninstalling beautifulsoup4-4.6.3:\n",
      "      Successfully uninstalled beautifulsoup4-4.6.3\n",
      "Successfully installed JPype1-1.3.0 beautifulsoup4-4.6.0 colorama-0.4.4 konlpy-0.5.2\n"
     ]
    }
   ],
   "source": [
    "!pip install konlpy"
   ]
  },
  {
   "cell_type": "code",
   "execution_count": 67,
   "metadata": {
    "colab": {
     "base_uri": "https://localhost:8080/"
    },
    "id": "JLegDNqclWds",
    "outputId": "8e779424-4ad0-405c-a9be-da26dad12cad"
   },
   "outputs": [
    {
     "name": "stdout",
     "output_type": "stream",
     "text": [
      "2.8284271247461903\n",
      "24.596747752497684\n"
     ]
    }
   ],
   "source": [
    "#similarity(유사도)\n",
    "'''\n",
    "1. Euclidean similarity(=L2): 두 벡터 사이의 최단거리를 의미. \n",
    "   P=(x1, x2, x3, x4,...,xd), Q=(y1, y2, y3, y4, ..., yd)\n",
    "   유클리디안 거리 = {(x1-y1)제곱+(x2-y2)제곱+(x3-y3)제곱+...+(xd-yd)제곱} 에 루트 씌운 것.\n",
    "\n",
    "2. Cosine similarity: 벡터 내적 값을 두 벡터의 크기(원점에서부터 해당 벡터까지 거리)의 곱으로 나눈 것.\n",
    "\n",
    "*** 코사인 유사도를 더 많이 사용한다.\n",
    "\n",
    "'''\n",
    "\n",
    "#넘파이로 유사도 구하기 - 직접 함수 정의해서.\n",
    "import numpy as np\n",
    "a=np.array((1,2))\n",
    "b=np.array((3,4))\n",
    "\n",
    "#유클리디안 유사도\n",
    "def euclidean(x,y):\n",
    "  return np.linalg.norm(x-y)\n",
    "\n",
    "#코사인 유사도\n",
    "def cosine_similarity(x,y):\n",
    "  return np.dot(x,y)/np.linalg.norm(x)*np.linalg.norm(y)\n",
    "\n",
    "eu = euclidean(a,b)\n",
    "print(eu)\n",
    "\n",
    "co = cosine_similarity(a,b)\n",
    "print(co)"
   ]
  },
  {
   "cell_type": "code",
   "execution_count": 68,
   "metadata": {
    "colab": {
     "base_uri": "https://localhost:8080/"
    },
    "id": "0hmORx1i_z-7",
    "outputId": "7788d2df-2973-4af3-d63f-dbb68a2a2061"
   },
   "outputs": [
    {
     "data": {
      "text/plain": [
       "array([1, 2])"
      ]
     },
     "execution_count": 68,
     "metadata": {},
     "output_type": "execute_result"
    }
   ],
   "source": [
    "a"
   ]
  },
  {
   "cell_type": "code",
   "execution_count": 69,
   "metadata": {
    "colab": {
     "base_uri": "https://localhost:8080/"
    },
    "id": "sc1Qk8TxslCG",
    "outputId": "091f5415-7a8c-4c7d-c4dd-3fa263d4a621"
   },
   "outputs": [
    {
     "data": {
      "text/plain": [
       "0.7071067811865476"
      ]
     },
     "execution_count": 69,
     "metadata": {},
     "output_type": "execute_result"
    }
   ],
   "source": [
    "#두 문서의 유사도를 코사인 유사도를 이용해 구할 수 있다.\n",
    "#두 문서를 벡터화한 후 두 벡터의 코사인 유사도를 구하는 것과 같다.\n",
    "\n",
    "doc1 = np.array((1,0,0,1,2))\n",
    "doc2 = np.array((1,1,1,0,0))\n",
    "\n",
    "cosine_similarity(doc1, doc2)"
   ]
  },
  {
   "cell_type": "code",
   "execution_count": 86,
   "metadata": {
    "colab": {
     "base_uri": "https://localhost:8080/"
    },
    "id": "pE46NOyys4rV",
    "outputId": "c065cb07-4157-457b-f9cc-83f6826c2cb5"
   },
   "outputs": [
    {
     "data": {
      "text/plain": [
       "matrix([[1, 1, 0, 1, 0, 0, 1, 0, 0, 1, 0, 0, 0, 0, 0, 1, 0, 0, 0, 0, 1,\n",
       "         0, 0, 0, 2, 0],\n",
       "        [0, 1, 2, 1, 0, 0, 0, 0, 2, 0, 0, 0, 1, 2, 0, 0, 0, 1, 0, 0, 0,\n",
       "         0, 0, 1, 1, 0],\n",
       "        [0, 1, 0, 1, 1, 1, 0, 1, 0, 0, 1, 1, 0, 0, 1, 0, 0, 0, 0, 0, 0,\n",
       "         0, 0, 0, 1, 1],\n",
       "        [0, 0, 0, 0, 0, 0, 0, 0, 0, 1, 0, 0, 0, 0, 0, 1, 1, 0, 1, 1, 0,\n",
       "         1, 1, 0, 1, 0]])"
      ]
     },
     "execution_count": 86,
     "metadata": {},
     "output_type": "execute_result"
    }
   ],
   "source": [
    "#우리는 지금까지 BoW 구하는데 일일이 코드를 작성했다. 그런데 이제 이렇게 안 해도 된다.\n",
    "#왜냐하면 사이킷 런으로 모두 구현할 수 있기 때문!\n",
    "\n",
    "from sklearn.feature_extraction.text import CountVectorizer #CountVectorizer 객체로 BoW 구할 수 있다.\n",
    "file = '/content/drive/MyDrive/example.txt'\n",
    "with open(file) as f:\n",
    "  data = [line.strip() for line in f.readlines()]\n",
    "data  \n",
    "\n",
    "bowModel = CountVectorizer()\n",
    "bowModel.fit_transform(data).todense()"
   ]
  },
  {
   "cell_type": "code",
   "execution_count": 71,
   "metadata": {
    "colab": {
     "base_uri": "https://localhost:8080/"
    },
    "id": "yqDreN7CuCns",
    "outputId": "4136cd57-6439-4e20-aaf4-7d0963a2878d"
   },
   "outputs": [
    {
     "data": {
      "text/plain": [
       "matrix([[1, 0, 1, 0, 0, 0, 0, 0, 0, 0, 1, 0, 0, 2, 0],\n",
       "        [1, 2, 0, 0, 0, 1, 2, 0, 1, 0, 0, 0, 1, 1, 0],\n",
       "        [1, 0, 0, 1, 1, 0, 0, 0, 0, 0, 0, 0, 0, 1, 1],\n",
       "        [0, 0, 1, 0, 0, 0, 0, 1, 0, 1, 0, 1, 0, 1, 0]])"
      ]
     },
     "execution_count": 71,
     "metadata": {},
     "output_type": "execute_result"
    }
   ],
   "source": [
    "#불용어 제거하여 bow 만들기\n",
    "bowModel = CountVectorizer(stop_words = 'english')\n",
    "bowModel.fit_transform(data).todense()"
   ]
  },
  {
   "cell_type": "code",
   "execution_count": 72,
   "metadata": {
    "colab": {
     "base_uri": "https://localhost:8080/"
    },
    "id": "u3DEd5MtusYk",
    "outputId": "63d2ffeb-e607-45f7-c214-c8b9f01d7b54"
   },
   "outputs": [
    {
     "data": {
      "text/plain": [
       "matrix([[1, 0, 1, 0, 2],\n",
       "        [1, 2, 0, 2, 1],\n",
       "        [1, 0, 0, 0, 1],\n",
       "        [0, 0, 1, 0, 1]])"
      ]
     },
     "execution_count": 72,
     "metadata": {},
     "output_type": "execute_result"
    }
   ],
   "source": [
    "#불용어 제거하고 벡터의 특징(feature)개수도 5개로 맞추기\n",
    "bowModel = CountVectorizer(stop_words='english', max_features=5)\n",
    "bowModel.fit_transform(data).todense()\n"
   ]
  },
  {
   "cell_type": "code",
   "execution_count": 143,
   "metadata": {
    "colab": {
     "base_uri": "https://localhost:8080/",
     "height": 174
    },
    "id": "4lsA2ztwvJRd",
    "outputId": "4c31298f-2409-4e3e-b104-a3fe0e091cee"
   },
   "outputs": [
    {
     "data": {
      "text/html": [
       "<div>\n",
       "<style scoped>\n",
       "    .dataframe tbody tr th:only-of-type {\n",
       "        vertical-align: middle;\n",
       "    }\n",
       "\n",
       "    .dataframe tbody tr th {\n",
       "        vertical-align: top;\n",
       "    }\n",
       "\n",
       "    .dataframe thead th {\n",
       "        text-align: right;\n",
       "    }\n",
       "</style>\n",
       "<table border=\"1\" class=\"dataframe\">\n",
       "  <thead>\n",
       "    <tr style=\"text-align: right;\">\n",
       "      <th></th>\n",
       "      <th>data</th>\n",
       "      <th>science</th>\n",
       "      <th>arts</th>\n",
       "      <th>graduates</th>\n",
       "      <th>brained</th>\n",
       "    </tr>\n",
       "  </thead>\n",
       "  <tbody>\n",
       "    <tr>\n",
       "      <th>0</th>\n",
       "      <td>1</td>\n",
       "      <td>0</td>\n",
       "      <td>1</td>\n",
       "      <td>0</td>\n",
       "      <td>2</td>\n",
       "    </tr>\n",
       "    <tr>\n",
       "      <th>1</th>\n",
       "      <td>1</td>\n",
       "      <td>2</td>\n",
       "      <td>0</td>\n",
       "      <td>2</td>\n",
       "      <td>1</td>\n",
       "    </tr>\n",
       "    <tr>\n",
       "      <th>2</th>\n",
       "      <td>1</td>\n",
       "      <td>0</td>\n",
       "      <td>0</td>\n",
       "      <td>0</td>\n",
       "      <td>1</td>\n",
       "    </tr>\n",
       "    <tr>\n",
       "      <th>3</th>\n",
       "      <td>0</td>\n",
       "      <td>0</td>\n",
       "      <td>1</td>\n",
       "      <td>0</td>\n",
       "      <td>1</td>\n",
       "    </tr>\n",
       "  </tbody>\n",
       "</table>\n",
       "</div>"
      ],
      "text/plain": [
       "   data  science  arts  graduates  brained\n",
       "0     1        0     1          0        2\n",
       "1     1        2     0          2        1\n",
       "2     1        0     0          0        1\n",
       "3     0        0     1          0        1"
      ]
     },
     "execution_count": 143,
     "metadata": {},
     "output_type": "execute_result"
    }
   ],
   "source": [
    "#불용어 제거하고 벡터의 특징(feature)개수를 5개로 맞춘 결과를 데이터프레임으로 넣기\n",
    "bowModel = CountVectorizer(stop_words='english', max_features=5)\n",
    "result=bowModel.fit_transform(data).todense() #todense()는 matrix(2차원)형태로 만들라는 뜻\n",
    "\n",
    "import pandas as pd\n",
    "pd.DataFrame(data=result, columns= bowModel.vocabulary_)\n"
   ]
  },
  {
   "cell_type": "code",
   "execution_count": 78,
   "metadata": {
    "colab": {
     "base_uri": "https://localhost:8080/"
    },
    "id": "U5rGnkbRvUXk",
    "outputId": "f78b5a10-8029-4a01-8128-c1d8ccc07d3b"
   },
   "outputs": [
    {
     "data": {
      "text/plain": [
       "['서울 삼성동에 사는 직장인 최모씨(39)는 옷장을 정리하다 마땅하게 입을 만한 겨울 의류가 없자 지난 주말 인근 백화점을 찾았다. 코로나19 장기화로 2년 가까이 재택근무를 했던 만큼 따로 쇼핑하지 않았지만 이달 들어 회사로 출근한 데다 연말을 앞두고 여러군데 모임을 잡았기 때문이다. 최씨는 “집콕에 삼시세끼를 챙기다보니 유행은커녕 몸에 맞는 옷이 거의 없었다”면서 “식사할 때는 마스크를 벗어야 하는데 피부가 엉망이라 결국 지갑을 열었다”고 말했다. ‘위드코로나’와 함께 여성 패션업계에 훈풍이 불고 있다. 재택근무가 줄어 들고 사무실 출근이 늘어난 데다 연말이 다가오면서 각종 모임에 나가기 위해 의류와 화장품 등을 찾는 소비자가 늘고 있어서다. 7일 롯데백화점에 따르면 지난 10월 25일부터 11월6일까지 여성 패션의류 매출이 거리두기 완화 전(10월11~23일)보다 12.6% 증가했다. 주얼리는 46.4%, 기초 화장품은 판매량이 16.3% 증가했고 식당가 매출도 동기간 40.3%나 늘었다. 특히 여성 패션의류는 완화직전 한 주(10월18~24일)에 비해 10월 마지막주 판매량이 17.4% 증가했고 30~40대 고급 패션의류(29.9%)가 잘 나갔다. 롯데백화점 관계자는 “11월부터 매장내 화장품 테스터와 견본품 증정 행사를 재개했고 10명 이내 소규모 형태의 마케팅 행사도 준비 중”이라면서 “다만 마스크 착용이 의무인만큼 메이크업과 스킨케어 서비스는 하지 못하고 있다”고 말했다. ',\n",
       " '새 방역체계인 위드 코로나 과정에서 신종 코로나바이러스 감염증(코로나19) 4차 유행이 지속되는 가운데 7일 신규 확진자 수는 2200명대를 기록했다. 닷새 연속 2000명대다.중앙방역대책본부는 이날 0시 기준으로 신규 확진자가 2224명 증가해 누적 37만9935명으로 집계됐다고 밝혔다.전일(2248명)보다는 24명 줄었지만 지난 3일 이후 닷새 연속으로 2000명대를 유지하며 확산세를 이어가고 있는 상황이다. 지난달 30일(발표일 기준 10월 31일) 신규 확진자 2061명보다는 163명이 많다.단계적 일상회복 계획이 개시된 이달 1일 이후 전국적으로 활동과 모임 등이 급증한 것이 영향을 준 것으로 풀이된다. 쌀쌀해진 날씨로 인해 환기가 부족한 실내활동이 늘어난 점도 영향을 주고 있다.',\n",
       " '유럽 3개국 순방을 마치고 지난 5일 귀국한 문재인 대통령이 참모들에게 방문 지역 중 하나였던 ‘V4(비세그라드 그룹, 헝가리·폴란드·체코·슬로바키아)’ 국가들과의 교류 확대에 힘쓸 것을 당부했습니다.박수현 청와대 국민소통수석은 오늘(7일) 페이스북에 게시한 ‘브리핑에 없는 대통령 이야기’라는 제목의 글에서 문 대통령의 이런 지시사항을 소개했습니다.문 대통령은 “V4의 역동성에 대해 기업은 잘 알고 있지만 우리 국민이나 언론은 잘 모르는 것 같다”며 “앞으로 국민께 이 나라들에 대해 자세히 알려드리고 협력과 연대를 강화해 국익에 도움이 되도록 노력해야 한다”고 말했습니다.문 대통령은 “V4는 유럽연합(EU)내 최대 투자처이며 한국 기업도 이미 650여개나 진출한 지역”이라며 “예전에는 서유럽이 이 지역을 한 단계 아래로 내려다봤지만 이제 서유럽은 정체·하락하는데 비해 이 지역은 역동적으로 성장하고 있다”고 소개했습니다.이어 “군부 독재와 공산주의를 무너뜨리고 민주주의에 도달하고, 외세에 의해 고통을 겪는 등 민족의식 면에서 우리와 비슷한 면이 있다”고 설명했습니다.문 대통령은 “V4 비중있게 봐야 한다”며 “다음 정부에서도 이런 기조가 이어지도록 자료를 잘 정리해달라”고 강조했습니다.문 대통령 “V4와 협력과 연대 강화…다음 정부서도 이어져야”',\n",
       " '경기남부경찰청은 단계적 일상회복(위드 코로나)이 시작된 첫 주말인 5~6일 음주운전자 94명을 적발했다고 7일 밝혔다.경찰은 5~6일 오후 9시부터 오전 3시까지 교통경찰 등 261명을 투입해 관내 유흥가 주변과 고속도로 진·출입로 105곳에서 일제 단속을 벌였다. 94명 가운데 면허취소 수준은 55명, 정지 수준은 39명으로 집계됐다.단계적 일상회복 시작 이후 음주운전 적발 건수도 많이 증가했다. 이달 1~6일 음주운전 적발 건수는 모두 552명으로, 일평균 92명이었다. 올해 1월부터 10월까지 일평균 음주운전 적발 건수 67.4명(모두 2만477명)보다 73% 늘어난 수준이다. 경찰은 당분간 매일 음주운전 단속과 주 2회 일제 단속을 계속할 방침이다.',\n",
       " \"(서울=연합뉴스) 김영신 기자 = 대한상공회의소는 단계적 일상회복(위드 코로나)이 시작됐지만 기업들은 여전히 투자 계획 수립에 차질을 빚고 있는 것으로 조사됐다고 7일 밝혔다.대한상의가 최근 국내 기업 316개사를 대상으로 실시한 '위드 코로나 시대의 기업환경 전망과 대응과제' 조사 결과 내년도 투자계획을 세웠는지를 묻는 질문에 아직 검토조차 하지 못하고 있다는 기업이 56.2%에 달했다.이미 수립했거나 수립 중이라고 답변한 기업은 11.7%에 그쳤고, 현재 검토 중이라고 응답한 기업은 32.1%였다.이처럼 기업들이 투자계획 수립에 어려움을 겪는 것은 경영환경 불확실성 때문으로 분석됐다.응답 기업의 68.0%는 '위드 코로나 시대에도 기업환경의 불확실성이 지속되거나 확대될 것'이라는 반응을 보였다. '완화될 것'이라는 답변은 32.0%였다.기업 경영 환경의 불확실성에 대한 우려는 향후 경기 전망에도 부정적인 영향을 미쳤다.수출 확대와 실적개선 등 최근의 긍정적 흐름이 언제까지 지속될지에 대해 응답 기업의 12.0%는 '3개월 이내', 29.1%는 '내년 상반기까지'라고 답했다.\"]"
      ]
     },
     "execution_count": 78,
     "metadata": {},
     "output_type": "execute_result"
    }
   ],
   "source": [
    "#Q. article 1~5를 가져와서 서로 가장 유사한 문서를 찾기. CountVectorizer 이용해서.\n",
    "#bag에 들어가는 article들은 모두 string 형태여야 한다.(bag의 성질)\n",
    "\n",
    "#article1~5 가져오기\n",
    "path = '/content/drive/MyDrive/'\n",
    "import os\n",
    "file_list=[file for file in os.listdir(path) if 'article' in file]\n",
    "articles = []\n",
    "for text in file_list:\n",
    "  dir = os.path.join(path, text)\n",
    "  with open(dir, encoding='utf-8') as f:\n",
    "    data = f.read()\n",
    "  data = data.replace('\\n','')\n",
    "  articles.append(data)\n",
    "\n",
    "articles\n",
    "  "
   ]
  },
  {
   "cell_type": "code",
   "execution_count": 79,
   "metadata": {
    "colab": {
     "base_uri": "https://localhost:8080/"
    },
    "id": "ZSyfynsC9Pqq",
    "outputId": "a22fc082-ba94-47d3-ac70-ed7679f2c73b"
   },
   "outputs": [
    {
     "data": {
      "text/plain": [
       "['서울 삼성동 에 사는 직장인 최 모씨 ( 39 ) 는 옷장 을 정리 하다 마땅하게 입 을 만 한 겨울 의류 가 없자 지난 주말 인근 백화점 을 찾았다 . 코로나 19 장기 화로 2년 가까이 재택근무 를 했던 만큼 따로 쇼핑 하지 않았지만 이 달 들어 회사 로 출근 한 데 다 연말 을 앞두고 여러 군데 모임 을 잡았기 때문 이다 . 최씨 는 “ 집콕 에 삼 시세 끼 를 챙기다 보니 유행 은커녕 몸 에 맞는 옷 이 거의 없었다 ” 면서 “ 식사 할 때 는 마스크 를 벗어야 하는데 피부 가 엉망 이라 결국 지갑 을 열었다 ” 고 말 했다 . ‘ 위드 코로나 ’ 와 함께 여성 패션 업계 에 훈풍 이 불 고 있다 . 재택근무 가 줄어 들고 사무실 출근 이 늘어난 데 다 연말 이 다가오면서 각종 모임 에 나가기 위해 의류 와 화장품 등 을 찾는 소비자 가 늘 고 있어 서다 . 7일 롯데 백화점 에 따르면 지난 10월 25일 부터 11월 6일 까지 여성 패션 의류 매출 이 거리 두기 완화 전 ( 10월 11~23일 ) 보다 12.6% 증가 했다 . 주얼리 는 46.4% , 기초 화장품 은 판매량 이 16.3% 증가 했고 식당가 매출 도 동기간 40.3% 나 늘었다 . 특히 여성 패션 의류 는 완화 직전 한 주 ( 10월 18~24일 ) 에 비해 10월 마지막 주 판매량 이 17.4% 증가 했고 30~40 대 고급 패션 의류 ( 29.9% ) 가 잘 나갔다 . 롯데 백화점 관계자 는 “ 11월 부터 매 장내 화장품 테스 터 와 견본 품 증정 행사 를 재개 했고 10 명 이내 소규모 형태 의 마케팅 행사 도 준비 중 ” 이라면서 “ 다만 마스크 착용 이 의무 인 만큼 메이크업 과 스킨 케어 서비스 는 하지 못 하고 있다 ” 고 말 했다 .',\n",
       " '새 방역 체계 인 위드 코로나 과정 에서 신종 코로나바이러스 감염증 ( 코로나 19 ) 4 차 유행 이 지속 되는 가운데 7일 신규 확 진자 수 는 2200 명대 를 기록 했다 . 닷새 연속 2000 명대 다 . 중앙 방역 대책 본부 는 이 날 0시 기준 으로 신규 확 진자 가 2224 명 증가 해 누적 37만 9935 명 으로 집계 됐다고 밝혔다 . 전일 ( 2248 명 ) 보다는 24 명 줄었지만 지난 3일 이후 닷새 연속 으로 2000 명대 를 유지 하며 확산 세 를 이 어가 고 있는 상황 이다 . 지난달 30일 ( 발표 일 기준 10월 31일 ) 신규 확 진자 2061 명 보다는 163 명 이 많다 . 단계 적 일상 회복 계획 이 개시 된 이 달 1일 이후 전국 적 으로 활동 과 모임 등 이 급증 한 것 이 영향 을 준 것 으로 풀이 된다 . 쌀쌀해진 날씨 로 인해 환기 가 부족한 실내 활동 이 늘어난 점도 영향 을 주고 있다 .',\n",
       " '유럽 3 개국 순방 을 마치 고 지난 5일 귀국 한 문재인 대통령 이 참모 들 에게 방문 지역 중 하나 였던 ‘ V 4 ( 비세그라드 그룹 , 헝가리 · 폴란드 · 체코 · 슬로바키아 )’ 국가 들 과의 교류 확대 에 힘쓸 것 을 당부 했습니다 . 박수현 청와대 국민 소통 수석 은 오늘 ( 7일 ) 페이스북 에 게시 한 ‘ 브리핑 에 없는 대통령 이야기 ’ 라는 제목 의 글 에서 문 대통령 의 이런 지 시 사항 을 소개 했습니다 . 문 대통령 은 “ V 4 의 역 동성 에 대해 기업 은 잘 알 고 있지만 우리 국민 이나 언론 은 잘 모르는 것 같다 ” 며 “ 앞 으로 국민 께 이 나라 들 에 대해 자세히 알려 드리고 협력 과 연대 를 강화해 국익 에 도움 이 되도록 노력 해야 한다 ” 고 말 했습니다 . 문 대통령 은 “ V 4 는 유럽연합 ( EU ) 내 최대 투자 처 이며 한국 기업 도 이미 650 여개 나 진출 한 지역 ” 이 라며 “ 예전 에는 서유럽 이 이 지역 을 한 단계 아래 로 내려다봤지만 이제 서유럽 은 정체 · 하락 하는데 비해 이 지역 은 역 동 적 으로 성장하고 있다 ” 고 소개 했습니다 . 이어 “ 군부 독재 와 공산주의 를 무너 뜨 리 고 민주주의 에 도달 하고 , 외세 에 의해 고통 을 겪는 등 민족 의식 면 에서 우리 와 비슷한 면 이 있다 ” 고 설명 했습니다 . 문 대통령 은 “ V 4 비중 있게 봐야 한다 ” 며 “ 다음 정부 에서도 이런 기조 가 이어지도록 자료 를 잘 정리 해달라 ” 고 강조 했습니다 . 문 대통령 “ V 4 와 협력 과 연대 강화 … 다음 정부 서도 이어져야 ”',\n",
       " '경 기 남부 경찰청 은 단계 적 일상 회복 ( 위드 코로나 ) 이 시작 된 첫 주말 인 5~6일 음주운전 자 94 명 을 적발 했다고 7일 밝혔다 . 경찰 은 5~6일 오후 9시 부터 오전 3시 까지 교통경찰 등 261 명 을 투입 해 관내 유흥가 주변 과 고속도로 진 · 출입 로 105 곳 에서 일제 단속 을 벌였다 . 94 명 가운데 면허 취소 수준 은 55 명 , 정지 수준 은 39 명 으로 집계 됐다 . 단계 적 일상 회복 시작 이후 음주운전 적발 건 수도 많이 증가 했다 . 이 달 1~6일 음주운전 적발 건수 는 모두 552 명 으로 , 일 평균 92 명 이었다 . 올해 1월 부터 10월 까지 일 평균 음주운전 적발 건수 67.4 명 ( 모두 2만 477 명 ) 보다 73% 늘어난 수준 이다 . 경찰 은 당분간 매일 음주운전 단속 과 주 2회 일제 단속 을 계속 할 방침 이다 .',\n",
       " \"( 서울 = 연합뉴스 ) 김영신 기자 = 대 한 상공회의소 는 단계 적 일상 회복 ( 위드 코로나 ) 이 시작 됐지만 기업 들 은 여전히 투자 계획 수립 에 차질 을 빚 고 있는 것 으로 조사 됐다고 7일 밝혔다 . 대 한 상의 가 최근 국내 기업 316 개사 를 대상 으로 실시 한 ' 위드 코로나 시대 의 기업 환경 전망 과 대응 과제 ' 조사 결과 내년 도 투자 계획 을 세웠는지를 묻는 질문 에 아직 검토 조차 하지 못 하고 있다는 기업 이 56.2% 에 달 했다 . 이미 수립 했거나 수립 중이 라고 답변 한 기업 은 11.7% 에 그쳤고 , 현재 검토 중이 라고 응답 한 기업 은 32.1% 였다 . 이처럼 기업 들 이 투자 계획 수립 에 어려움 을 겪는 것 은 경영 환경 불확실 성 때문 으로 분석 됐다 . 응답 기업 의 68.0% 는 ' 위드 코로나 시대 에도 기업 환경 의 불확실 성 이 지속 되거나 확대 될 것 ' 이라는 반응 을 보였다 . ' 완화 될 것 ' 이라는 답변 은 32.0% 였다 . 기업 경영 환경 의 불확실 성 에 대한 우려 는 향후 경기 전망 에도 부정 적 인 영향 을 미쳤다 . 수출 확대 와 실적 개선 등 최근 의 긍정 적 흐름 이 언제 까지 지속 될지에 대해 응답 기업 의 12.0% 는 ' 3 개월 이내 ', 29.1% 는 ' 내년 상반기 까지 ' 라고 답 했다 .\"]"
      ]
     },
     "execution_count": 79,
     "metadata": {},
     "output_type": "execute_result"
    }
   ],
   "source": [
    "from konlpy.tag import Okt\n",
    "okt = Okt()\n",
    "okt.morphs('안녕하세요 제 이름은 이지환입니다.')\n",
    "\n",
    "articles2 = []\n",
    "for line in articles:\n",
    "  tokens=okt.morphs(line)\n",
    "  tokened_sent = ' '.join(tokens)\n",
    "  articles2.append(tokened_sent)\n",
    "\n",
    "articles2"
   ]
  },
  {
   "cell_type": "code",
   "execution_count": 98,
   "metadata": {
    "colab": {
     "base_uri": "https://localhost:8080/"
    },
    "id": "rTYAsOi9Cet-",
    "outputId": "baedf5c2-662d-4b67-af30-144078ee349f"
   },
   "outputs": [
    {
     "data": {
      "text/plain": [
       "{'article1': array([4, 1, 1, 0, 1, 0, 0, 0, 1, 0, 0, 5, 2, 0, 3, 2, 0, 4, 3, 0]),\n",
       " 'article2': array([1, 0, 1, 0, 0, 1, 0, 1, 1, 5, 0, 0, 1, 0, 1, 2, 0, 0, 1, 0]),\n",
       " 'article3': array([0, 0, 1, 2, 0, 1, 7, 2, 0, 2, 0, 0, 2, 0, 0, 0, 1, 0, 0, 6]),\n",
       " 'article4': array([1, 3, 1, 0, 2, 2, 0, 1, 1, 2, 5, 0, 0, 4, 1, 1, 0, 0, 1, 0]),\n",
       " 'article5': array([ 0,  0,  1, 11,  2,  1,  0,  0,  3,  3,  0,  0,  0,  0,  0,  3,  3,\n",
       "         0,  2,  0])}"
      ]
     },
     "execution_count": 98,
     "metadata": {},
     "output_type": "execute_result"
    }
   ],
   "source": [
    "bow = CountVectorizer(max_features=20)\n",
    "real_bow=bow.fit_transform(articles2).toarray() #1차원인 array 형태로 변형해라.\n",
    "article_dic = {}\n",
    "k=1\n",
    "for vec in real_bow:\n",
    "  article_dic[f'article{k}']=vec\n",
    "  k+=1\n",
    "article_dic"
   ]
  },
  {
   "cell_type": "code",
   "execution_count": 99,
   "metadata": {
    "colab": {
     "base_uri": "https://localhost:8080/"
    },
    "id": "sttufRRr8BSO",
    "outputId": "7e193673-ba3d-4d7d-fca4-de7b91e5c566"
   },
   "outputs": [
    {
     "name": "stdout",
     "output_type": "stream",
     "text": [
      "article1&article1 87.0\n",
      "article1&article2 11.73853071931389\n",
      "article1&article3 5.466722735905339\n",
      "article1&article4 16.920707574672704\n",
      "article1&article5 24.93854515569741\n",
      "article2&article1 27.601410069738066\n",
      "article2&article2 37.0\n",
      "article2&article3 26.824756617117096\n",
      "article2&article4 27.31201101980493\n",
      "article2&article5 59.48608740364922\n",
      "article3&article1 4.5731238271515835\n",
      "article3&article2 9.543423027243584\n",
      "article3&article3 104.0\n",
      "article3&article4 7.3307833561894755\n",
      "article3&article5 41.81725352420568\n",
      "article4&article1 21.334805202848194\n",
      "article4&article2 14.645571126562063\n",
      "article4&article3 11.049296652807323\n",
      "article4&article4 69.0\n",
      "article4&article5 32.67028965416371\n",
      "article5&article1 12.99193669787829\n",
      "article5&article2 13.179552299012101\n",
      "article5&article3 26.04188243423587\n",
      "article5&article4 13.498502911001774\n",
      "article5&article5 167.0\n"
     ]
    }
   ],
   "source": [
    "for art1, vec1 in article_dic.items():\n",
    "  for art2,vec2 in article_dic.items():\n",
    "    print(f\"{art1}&{art2}\", cosine_similarity(article_dic[art1],article_dic[art2]))\n",
    "  "
   ]
  },
  {
   "cell_type": "code",
   "execution_count": 141,
   "metadata": {
    "colab": {
     "base_uri": "https://localhost:8080/"
    },
    "id": "9LxDR236PB8_",
    "outputId": "02fc28ed-14ec-4b29-837d-52a935e95aa3"
   },
   "outputs": [
    {
     "name": "stderr",
     "output_type": "stream",
     "text": [
      "/usr/local/lib/python3.7/dist-packages/sklearn/utils/validation.py:590: FutureWarning: np.matrix usage is deprecated in 1.0 and will raise a TypeError in 1.2. Please convert to a numpy array with np.asarray. For more information see: https://numpy.org/doc/stable/reference/generated/numpy.matrix.html\n",
      "  FutureWarning,\n"
     ]
    },
    {
     "data": {
      "text/plain": [
       "array([[1.        , 0.31725759, 0.05256464, 0.24522765, 0.14933261],\n",
       "       [0.31725759, 1.        , 0.25793035, 0.39582625, 0.35620412],\n",
       "       [0.05256464, 0.25793035, 1.        , 0.10624324, 0.25040272],\n",
       "       [0.24522765, 0.39582625, 0.10624324, 1.        , 0.19563048],\n",
       "       [0.14933261, 0.35620412, 0.25040272, 0.19563048, 1.        ]])"
      ]
     },
     "execution_count": 141,
     "metadata": {},
     "output_type": "execute_result"
    }
   ],
   "source": [
    "bow = CountVectorizer(max_features=20)\n",
    "real_bow=bow.fit_transform(articles2).todense() # 2차원 matrix형태로 변형해라\n",
    "\n",
    "cosine_similarity(real_bow, real_bow) #코사인 유사도 값이 matrix 형태로 추출된다"
   ]
  },
  {
   "cell_type": "code",
   "execution_count": 111,
   "metadata": {
    "colab": {
     "base_uri": "https://localhost:8080/"
    },
    "id": "imcRzkQJAE8o",
    "outputId": "59134d09-82d6-4dd1-c2e0-82803c591275"
   },
   "outputs": [
    {
     "data": {
      "text/plain": [
       "array([[0.99846035]])"
      ]
     },
     "execution_count": 111,
     "metadata": {},
     "output_type": "execute_result"
    }
   ],
   "source": [
    "#코사인 유사도 내장함수\n",
    "from sklearn.metrics.pairwise import cosine_similarity\n",
    "#cosine_similarity(vector1,vector2)\n",
    "\n",
    "v1=[[2,3]] #2차원이어야 함.\n",
    "v2=[[3,4]] #2차원이어야 함.\n",
    "\n",
    "cosine_similarity(v1,v2)"
   ]
  },
  {
   "cell_type": "code",
   "execution_count": 115,
   "metadata": {
    "colab": {
     "base_uri": "https://localhost:8080/"
    },
    "id": "VIQG-EYYE8nh",
    "outputId": "05f851d3-e846-4d49-a666-d446f46f82f8"
   },
   "outputs": [
    {
     "name": "stdout",
     "output_type": "stream",
     "text": [
      "[[0.89778941]]\n",
      "[[0.89778941]]\n"
     ]
    }
   ],
   "source": [
    "a1=np.array([[5,4]])\n",
    "a2=np.array([[9,2]])\n",
    "print(cosine_similarity(a1,a2)) #[[0.89778941]]\n",
    "print(cosine_similarity(a2,a1)) #[[0.89778941]]"
   ]
  },
  {
   "cell_type": "code",
   "execution_count": 117,
   "metadata": {
    "colab": {
     "base_uri": "https://localhost:8080/"
    },
    "id": "3W3VxL1iHD6G",
    "outputId": "00657e45-4e0a-40fc-e533-d66839d66bac"
   },
   "outputs": [
    {
     "data": {
      "text/plain": [
       "['Data Science is an overlap between Arts and Science.',\n",
       " 'Generally, Arts graduates are right-brained and Science graduates are left-brained.',\n",
       " 'Excelling in both Arts and Science at a time becomes difficult.',\n",
       " 'Natural Language Processing is a part of Data Science.']"
      ]
     },
     "execution_count": 117,
     "metadata": {},
     "output_type": "execute_result"
    }
   ],
   "source": [
    "#bag of ngrams\n",
    "#시퀀스를 알 수 있는 대신, 연산량 늘어남.\n",
    "\n",
    "with open('/content/drive/MyDrive/example.txt', encoding='utf-8') as file:\n",
    "    data2 = [line.strip() for line in file.readlines()]\n",
    "    \n",
    "data2\n"
   ]
  },
  {
   "cell_type": "code",
   "execution_count": 120,
   "metadata": {
    "colab": {
     "base_uri": "https://localhost:8080/"
    },
    "id": "4R1yUiMxH_cw",
    "outputId": "63696ad3-00f9-41ef-c70f-630d4331a542"
   },
   "outputs": [
    {
     "data": {
      "text/plain": [
       "matrix([[0, 1, 0, 1, 0, 0, 0, 0, 0, 0, 0, 1, 0, 0, 0, 1, 0, 0],\n",
       "        [1, 0, 1, 0, 0, 1, 1, 1, 0, 1, 0, 0, 0, 1, 1, 0, 0, 0],\n",
       "        [0, 1, 0, 0, 1, 0, 0, 0, 0, 0, 0, 0, 0, 0, 0, 0, 1, 1],\n",
       "        [0, 0, 0, 1, 0, 0, 0, 0, 1, 0, 1, 0, 1, 0, 0, 0, 0, 0]])"
      ]
     },
     "execution_count": 120,
     "metadata": {},
     "output_type": "execute_result"
    }
   ],
   "source": [
    "from sklearn.feature_extraction.text import CountVectorizer\n",
    "bowModel2 = CountVectorizer(ngram_range = (2,2), stop_words='english') #ngram_range = (2,2)\n",
    "bowModel2.fit_transform(data).todense()\n",
    "bowModel2.vocabulary\n",
    "\n",
    "result = bowModel2.fit_transform(data).todense()\n",
    "result"
   ]
  },
  {
   "cell_type": "code",
   "execution_count": 132,
   "metadata": {
    "colab": {
     "base_uri": "https://localhost:8080/",
     "height": 535
    },
    "id": "hRQmtq5HINWO",
    "outputId": "e1f7692e-ec05-4010-c7e5-e9d19e776da1"
   },
   "outputs": [
    {
     "name": "stdout",
     "output_type": "stream",
     "text": [
      "[nltk_data] Downloading package punkt to /root/nltk_data...\n",
      "[nltk_data]   Package punkt is already up-to-date!\n"
     ]
    },
    {
     "data": {
      "image/png": "[encoded data removed]",
      "text/plain": [
       "<Figure size 864x576 with 1 Axes>"
      ]
     },
     "metadata": {
      "needs_background": "light"
     },
     "output_type": "display_data"
    }
   ],
   "source": [
    "#unigram, bigram, trigram 토큰개수를 그래프로 그려보기\n",
    "\n",
    "import matplotlib.pyplot as plt\n",
    "import nltk\n",
    "nltk.download('punkt')\n",
    "from nltk.tokenize import word_tokenize\n",
    "from nltk.util import ngrams\n",
    "\n",
    "#unigram\n",
    "lowered_data=word_tokenize(' '.join(data2).lower())\n",
    "unigram=len(lowered_data)\n",
    "\n",
    "#bigram\n",
    "bigram = len(list(ngrams(lowered_data, 2)))\n",
    "\n",
    "#trigram\n",
    "trigram = len(list(ngrams(lowered_data, 3)))\n",
    "\n",
    "#fourgram\n",
    "fourgram = len(list(ngrams(lowered_data, 4)))\n",
    "\n",
    "counts = [unigram,bigram, trigram,fourgram]\n",
    "\n",
    "plt.figure(figsize=(12,8))\n",
    "plt.plot(counts, 'ro')\n",
    "plt.xticks(range(4), ['unigram','bigram','trigram','fourgram'])\n",
    "plt.title('ngram counts')\n",
    "plt.show()"
   ]
  },
  {
   "cell_type": "code",
   "execution_count": 133,
   "metadata": {
    "colab": {
     "base_uri": "https://localhost:8080/"
    },
    "id": "JUBGn-eaJuXj",
    "outputId": "e3828072-fa38-4141-d6d4-255cbb1175ad"
   },
   "outputs": [
    {
     "name": "stdout",
     "output_type": "stream",
     "text": [
      "Requirement already satisfied: spacy in /usr/local/lib/python3.7/dist-packages (2.2.4)\n",
      "Requirement already satisfied: catalogue<1.1.0,>=0.0.7 in /usr/local/lib/python3.7/dist-packages (from spacy) (1.0.0)\n",
      "Requirement already satisfied: srsly<1.1.0,>=1.0.2 in /usr/local/lib/python3.7/dist-packages (from spacy) (1.0.5)\n",
      "Requirement already satisfied: tqdm<5.0.0,>=4.38.0 in /usr/local/lib/python3.7/dist-packages (from spacy) (4.62.3)\n",
      "Requirement already satisfied: requests<3.0.0,>=2.13.0 in /usr/local/lib/python3.7/dist-packages (from spacy) (2.23.0)\n",
      "Requirement already satisfied: murmurhash<1.1.0,>=0.28.0 in /usr/local/lib/python3.7/dist-packages (from spacy) (1.0.6)\n",
      "Requirement already satisfied: thinc==7.4.0 in /usr/local/lib/python3.7/dist-packages (from spacy) (7.4.0)\n",
      "Requirement already satisfied: wasabi<1.1.0,>=0.4.0 in /usr/local/lib/python3.7/dist-packages (from spacy) (0.8.2)\n",
      "Requirement already satisfied: cymem<2.1.0,>=2.0.2 in /usr/local/lib/python3.7/dist-packages (from spacy) (2.0.6)\n",
      "Requirement already satisfied: setuptools in /usr/local/lib/python3.7/dist-packages (from spacy) (57.4.0)\n",
      "Requirement already satisfied: numpy>=1.15.0 in /usr/local/lib/python3.7/dist-packages (from spacy) (1.19.5)\n",
      "Requirement already satisfied: plac<1.2.0,>=0.9.6 in /usr/local/lib/python3.7/dist-packages (from spacy) (1.1.3)\n",
      "Requirement already satisfied: preshed<3.1.0,>=3.0.2 in /usr/local/lib/python3.7/dist-packages (from spacy) (3.0.6)\n",
      "Requirement already satisfied: blis<0.5.0,>=0.4.0 in /usr/local/lib/python3.7/dist-packages (from spacy) (0.4.1)\n",
      "Requirement already satisfied: importlib-metadata>=0.20 in /usr/local/lib/python3.7/dist-packages (from catalogue<1.1.0,>=0.0.7->spacy) (4.8.2)\n",
      "Requirement already satisfied: typing-extensions>=3.6.4 in /usr/local/lib/python3.7/dist-packages (from importlib-metadata>=0.20->catalogue<1.1.0,>=0.0.7->spacy) (3.10.0.2)\n",
      "Requirement already satisfied: zipp>=0.5 in /usr/local/lib/python3.7/dist-packages (from importlib-metadata>=0.20->catalogue<1.1.0,>=0.0.7->spacy) (3.6.0)\n",
      "Requirement already satisfied: urllib3!=1.25.0,!=1.25.1,<1.26,>=1.21.1 in /usr/local/lib/python3.7/dist-packages (from requests<3.0.0,>=2.13.0->spacy) (1.24.3)\n",
      "Requirement already satisfied: certifi>=2017.4.17 in /usr/local/lib/python3.7/dist-packages (from requests<3.0.0,>=2.13.0->spacy) (2021.10.8)\n",
      "Requirement already satisfied: chardet<4,>=3.0.2 in /usr/local/lib/python3.7/dist-packages (from requests<3.0.0,>=2.13.0->spacy) (3.0.4)\n",
      "Requirement already satisfied: idna<3,>=2.5 in /usr/local/lib/python3.7/dist-packages (from requests<3.0.0,>=2.13.0->spacy) (2.10)\n"
     ]
    }
   ],
   "source": [
    "#spacy - 명사를 추출하는데 사용하는 패키지\n",
    "\n",
    "!pip install spacy"
   ]
  },
  {
   "cell_type": "code",
   "execution_count": 136,
   "metadata": {
    "colab": {
     "base_uri": "https://localhost:8080/"
    },
    "id": "5NHXSRoSLNdc",
    "outputId": "b597c210-90e7-439f-b67d-548afbb34bd6"
   },
   "outputs": [
    {
     "data": {
      "text/plain": [
       "I am a student"
      ]
     },
     "execution_count": 136,
     "metadata": {},
     "output_type": "execute_result"
    }
   ],
   "source": [
    "import spacy\n",
    "nlp = spacy.load('en_core_web_sm')\n",
    "docs = nlp('I am a student')\n",
    "docs"
   ]
  },
  {
   "cell_type": "code",
   "execution_count": 140,
   "metadata": {
    "colab": {
     "base_uri": "https://localhost:8080/"
    },
    "id": "dJmWpHstLUzY",
    "outputId": "17d1f6c2-4ee3-4d87-a405-099acb62963c"
   },
   "outputs": [
    {
     "data": {
      "text/plain": [
       "[Data Science,\n",
       " an overlap,\n",
       " Arts,\n",
       " Science,\n",
       " Arts graduates,\n",
       " right-brained and Science graduates,\n",
       " both Arts,\n",
       " Science,\n",
       " a time,\n",
       " Natural Language Processing,\n",
       " a part,\n",
       " Data Science]"
      ]
     },
     "execution_count": 140,
     "metadata": {},
     "output_type": "execute_result"
    }
   ],
   "source": [
    "nlp = spacy.load('en_core_web_sm')\n",
    "docs2 = nlp(' '.join(data2))\n",
    "data2_nouns=list(docs2.noun_chunks) #명사만 추출한 결과를 리스트로 형변환.\n",
    "data2_nouns"
   ]
  },
  {
   "cell_type": "code",
   "execution_count": null,
   "metadata": {
    "id": "ZZvJrgh_LpxZ"
   },
   "outputs": [],
   "source": [
    "# TF-IDF : 여러 문서들이 있을 때, 특정 단어가 어떤 문서에서 얼마나 중요한지를 나타낸다.\n",
    "\"\"\"\n",
    "term frequency(단어 빈도) x Inverse document frequency(역 문서 빈도)\n",
    "      = len(단어 총 개수) x log(전체문서수/단어등장 문서수)\n",
    "\"\"\"\n",
    "#zip's law를 이용해 만듦.\n",
    "#--> 순위와 빈도수는 반비례한다.\n",
    "#--> 1위가 3만개면 2위는 만 오천개, 3위는 만개 ......"
   ]
  }
 ],
 "metadata": {
  "colab": {
   "collapsed_sections": [],
   "name": "11월15일 수업 복습.ipynb",
   "provenance": []
  },
  "kernelspec": {
   "display_name": "Python 3",
   "language": "python",
   "name": "python3"
  },
  "language_info": {
   "codemirror_mode": {
    "name": "ipython",
    "version": 3
   },
   "file_extension": ".py",
   "mimetype": "text/x-python",
   "name": "python",
   "nbconvert_exporter": "python",
   "pygments_lexer": "ipython3",
   "version": "3.8.8"
  }
 },
 "nbformat": 4,
 "nbformat_minor": 1
}
