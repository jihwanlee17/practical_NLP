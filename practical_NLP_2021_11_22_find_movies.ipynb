{
 "cells": [
  {
   "cell_type": "code",
   "execution_count": 1,
   "id": "5530dbea",
   "metadata": {},
   "outputs": [],
   "source": [
    "#netfilix처럼 유사한 영화를 반환하는 알고리즘을 짠다. \n",
    "\n",
    "#toystory 쳤어 그러면 toystory와 유사한 영화를 5개 리스트로 반환\n",
    "#tfidf로 df의 overview를 벡터라이즈 해야겠지?\n",
    "#거기에 대한 cosine_similarity 구하고 sorting.\n",
    "#점수 상위 n개 -> 영화제목(title)\n",
    "\n",
    "#뭐를 기준으로 찾을지. title, overview를 찾을 때 어떤 인덱스로 ...\n",
    "\n",
    "#df의 index가 100, 300 이면 그 인덱스에 맞는 title을 가져오면 되겠지?\n",
    "\n",
    "#데이터가 크니까 sample로 몇개만 추출. 2000개만 먼저 추출해서 해봐.\n",
    "#null 데이터는 fillna를 이용."
   ]
  },
  {
   "cell_type": "code",
   "execution_count": 3,
   "id": "d3fb2410",
   "metadata": {},
   "outputs": [],
   "source": [
    "import pandas as pd\n",
    "file =r'C:\\Users\\82103\\OneDrive\\바탕 화면\\movies_metadata.csv'\n",
    "df = pd.read_csv(file, low_memory=False) #low_memory=False 하면 빨리 읽힌다"
   ]
  },
  {
   "cell_type": "code",
   "execution_count": 20,
   "id": "10e42620",
   "metadata": {},
   "outputs": [],
   "source": [
    "#sample에 대해서 수행.\n",
    "def find_movie(name):\n",
    "    try:\n",
    "\n",
    "        df_new = df[['title', 'overview']]\n",
    "        df_new_sample = df_new.iloc[:20000, :]\n",
    "        df_new_sample = df_new_sample.fillna(' ')\n",
    "        df_new_sample=df_new_sample.drop_duplicates(['title', 'overview'], keep='first')\n",
    "\n",
    "        from sklearn.feature_extraction.text import TfidfVectorizer\n",
    "        tfidfmodel = TfidfVectorizer(stop_words = 'english')\n",
    "\n",
    "        list_overview = df_new_sample.overview.to_list()\n",
    "\n",
    "        vec = tfidfmodel.fit_transform(list_overview).toarray()\n",
    "\n",
    "        from sklearn.metrics.pairwise import cosine_similarity\n",
    "        movie_review_similarity=pd.DataFrame(cosine_similarity(vec,vec))\n",
    "\n",
    "        movie_review_similarity.index = df_new_sample.title\n",
    "        movie_review_similarity.columns = df_new_sample.title\n",
    "        movie_review_similarity['movie'] = df_new_sample.title.to_list()\n",
    "\n",
    "        nums=sorted(movie_review_similarity.loc[:, name], reverse=True)[1:11] #자기자신 빼고 상위 10개 영화\n",
    "        mov=[movie_review_similarity.movie[movie_review_similarity[name]== n].to_list()[0] for n in nums]\n",
    "        return mov\n",
    "\n",
    "    except:\n",
    "        print('해당 영화가 없습니다. 다른 영화를 검색해 주세요')  "
   ]
  },
  {
   "cell_type": "code",
   "execution_count": 21,
   "id": "2cd69e3b",
   "metadata": {},
   "outputs": [
    {
     "data": {
      "text/plain": [
       "['Toy Story 3',\n",
       " 'Toy Story 2',\n",
       " 'The 40 Year Old Virgin',\n",
       " 'The Champ',\n",
       " 'Rebel Without a Cause',\n",
       " 'For Your Consideration',\n",
       " 'Condorman',\n",
       " 'Man on the Moon',\n",
       " 'Malice',\n",
       " 'Factory Girl']"
      ]
     },
     "execution_count": 21,
     "metadata": {},
     "output_type": "execute_result"
    }
   ],
   "source": [
    "find_movie('Toy Story')"
   ]
  },
  {
   "cell_type": "code",
   "execution_count": 9,
   "id": "d5ec4c08",
   "metadata": {},
   "outputs": [
    {
     "name": "stdout",
     "output_type": "stream",
     "text": [
      "해당 영화가 없습니다. 다른 영화를 검색해 주세요\n"
     ]
    }
   ],
   "source": [
    "find_movie('hello')"
   ]
  },
  {
   "cell_type": "code",
   "execution_count": 12,
   "id": "902da306",
   "metadata": {},
   "outputs": [],
   "source": [
    "#전체데이터에서 유사 영화 찾기\n",
    "def find_real_movie(name):\n",
    "    try:\n",
    "        \n",
    "        df_new = df[['title', 'overview']]\n",
    "\n",
    "        df_new = df_new.fillna(' ')\n",
    "        df_new=df_new.drop_duplicates(['title', 'overview'], keep='first')\n",
    "\n",
    "        from sklearn.feature_extraction.text import TfidfVectorizer\n",
    "        tfidfmodel = TfidfVectorizer(stop_words = 'english')\n",
    "\n",
    "        list_overview = df_new.overview.to_list()\n",
    "\n",
    "        vec = tfidfmodel.fit_transform(list_overview).toarray()\n",
    "\n",
    "        from sklearn.metrics.pairwise import cosine_similarity\n",
    "        movie_review_similarity=pd.DataFrame(cosine_similarity(vec,vec))\n",
    "\n",
    "        movie_review_similarity.index = df_new.title\n",
    "        movie_review_similarity.columns = df_new.title\n",
    "        movie_review_similarity['movie'] = df_new.title.to_list()\n",
    "\n",
    "        nums=sorted(movie_review_similarity.loc[:, name], reverse=True)[1:11] #자기자신 빼고 상위 10개 영화\n",
    "        mov=[movie_review_similarity.movie[movie_review_similarity[name]== w].to_list()[0] for w in nums]\n",
    "        return mov\n",
    "    except:\n",
    "        print('검색하신 영화가 존재하지 않습니다. 다른 영화를 검색해 주세요.')"
   ]
  },
  {
   "cell_type": "code",
   "execution_count": 13,
   "id": "012d62df",
   "metadata": {},
   "outputs": [
    {
     "ename": "MemoryError",
     "evalue": "Unable to allocate 25.7 GiB for an array with shape (45421, 75827) and data type float64",
     "output_type": "error",
     "traceback": [
      "\u001b[1;31m---------------------------------------------------------------------------\u001b[0m",
      "\u001b[1;31mMemoryError\u001b[0m                               Traceback (most recent call last)",
      "\u001b[1;32m<ipython-input-13-c1fe25802175>\u001b[0m in \u001b[0;36m<module>\u001b[1;34m\u001b[0m\n\u001b[1;32m----> 1\u001b[1;33m \u001b[0mfind_real_movie\u001b[0m\u001b[1;33m(\u001b[0m\u001b[1;34m'Toy Story'\u001b[0m\u001b[1;33m)\u001b[0m\u001b[1;33m\u001b[0m\u001b[1;33m\u001b[0m\u001b[0m\n\u001b[0m",
      "\u001b[1;32m<ipython-input-12-0b3d13b954f0>\u001b[0m in \u001b[0;36mfind_real_movie\u001b[1;34m(name)\u001b[0m\n\u001b[0;32m     13\u001b[0m         \u001b[0mlist_overview\u001b[0m \u001b[1;33m=\u001b[0m \u001b[0mdf_new\u001b[0m\u001b[1;33m.\u001b[0m\u001b[0moverview\u001b[0m\u001b[1;33m.\u001b[0m\u001b[0mto_list\u001b[0m\u001b[1;33m(\u001b[0m\u001b[1;33m)\u001b[0m\u001b[1;33m\u001b[0m\u001b[1;33m\u001b[0m\u001b[0m\n\u001b[0;32m     14\u001b[0m \u001b[1;33m\u001b[0m\u001b[0m\n\u001b[1;32m---> 15\u001b[1;33m         \u001b[0mvec\u001b[0m \u001b[1;33m=\u001b[0m \u001b[0mtfidfmodel\u001b[0m\u001b[1;33m.\u001b[0m\u001b[0mfit_transform\u001b[0m\u001b[1;33m(\u001b[0m\u001b[0mlist_overview\u001b[0m\u001b[1;33m)\u001b[0m\u001b[1;33m.\u001b[0m\u001b[0mtoarray\u001b[0m\u001b[1;33m(\u001b[0m\u001b[1;33m)\u001b[0m\u001b[1;33m\u001b[0m\u001b[1;33m\u001b[0m\u001b[0m\n\u001b[0m\u001b[0;32m     16\u001b[0m \u001b[1;33m\u001b[0m\u001b[0m\n\u001b[0;32m     17\u001b[0m         \u001b[1;32mfrom\u001b[0m \u001b[0msklearn\u001b[0m\u001b[1;33m.\u001b[0m\u001b[0mmetrics\u001b[0m\u001b[1;33m.\u001b[0m\u001b[0mpairwise\u001b[0m \u001b[1;32mimport\u001b[0m \u001b[0mcosine_similarity\u001b[0m\u001b[1;33m\u001b[0m\u001b[1;33m\u001b[0m\u001b[0m\n",
      "\u001b[1;32mc:\\python38\\lib\\site-packages\\scipy\\sparse\\compressed.py\u001b[0m in \u001b[0;36mtoarray\u001b[1;34m(self, order, out)\u001b[0m\n\u001b[0;32m   1029\u001b[0m         \u001b[1;32mif\u001b[0m \u001b[0mout\u001b[0m \u001b[1;32mis\u001b[0m \u001b[1;32mNone\u001b[0m \u001b[1;32mand\u001b[0m \u001b[0morder\u001b[0m \u001b[1;32mis\u001b[0m \u001b[1;32mNone\u001b[0m\u001b[1;33m:\u001b[0m\u001b[1;33m\u001b[0m\u001b[1;33m\u001b[0m\u001b[0m\n\u001b[0;32m   1030\u001b[0m             \u001b[0morder\u001b[0m \u001b[1;33m=\u001b[0m \u001b[0mself\u001b[0m\u001b[1;33m.\u001b[0m\u001b[0m_swap\u001b[0m\u001b[1;33m(\u001b[0m\u001b[1;34m'cf'\u001b[0m\u001b[1;33m)\u001b[0m\u001b[1;33m[\u001b[0m\u001b[1;36m0\u001b[0m\u001b[1;33m]\u001b[0m\u001b[1;33m\u001b[0m\u001b[1;33m\u001b[0m\u001b[0m\n\u001b[1;32m-> 1031\u001b[1;33m         \u001b[0mout\u001b[0m \u001b[1;33m=\u001b[0m \u001b[0mself\u001b[0m\u001b[1;33m.\u001b[0m\u001b[0m_process_toarray_args\u001b[0m\u001b[1;33m(\u001b[0m\u001b[0morder\u001b[0m\u001b[1;33m,\u001b[0m \u001b[0mout\u001b[0m\u001b[1;33m)\u001b[0m\u001b[1;33m\u001b[0m\u001b[1;33m\u001b[0m\u001b[0m\n\u001b[0m\u001b[0;32m   1032\u001b[0m         \u001b[1;32mif\u001b[0m \u001b[1;32mnot\u001b[0m \u001b[1;33m(\u001b[0m\u001b[0mout\u001b[0m\u001b[1;33m.\u001b[0m\u001b[0mflags\u001b[0m\u001b[1;33m.\u001b[0m\u001b[0mc_contiguous\u001b[0m \u001b[1;32mor\u001b[0m \u001b[0mout\u001b[0m\u001b[1;33m.\u001b[0m\u001b[0mflags\u001b[0m\u001b[1;33m.\u001b[0m\u001b[0mf_contiguous\u001b[0m\u001b[1;33m)\u001b[0m\u001b[1;33m:\u001b[0m\u001b[1;33m\u001b[0m\u001b[1;33m\u001b[0m\u001b[0m\n\u001b[0;32m   1033\u001b[0m             \u001b[1;32mraise\u001b[0m \u001b[0mValueError\u001b[0m\u001b[1;33m(\u001b[0m\u001b[1;34m'Output array must be C or F contiguous'\u001b[0m\u001b[1;33m)\u001b[0m\u001b[1;33m\u001b[0m\u001b[1;33m\u001b[0m\u001b[0m\n",
      "\u001b[1;32mc:\\python38\\lib\\site-packages\\scipy\\sparse\\base.py\u001b[0m in \u001b[0;36m_process_toarray_args\u001b[1;34m(self, order, out)\u001b[0m\n\u001b[0;32m   1200\u001b[0m             \u001b[1;32mreturn\u001b[0m \u001b[0mout\u001b[0m\u001b[1;33m\u001b[0m\u001b[1;33m\u001b[0m\u001b[0m\n\u001b[0;32m   1201\u001b[0m         \u001b[1;32melse\u001b[0m\u001b[1;33m:\u001b[0m\u001b[1;33m\u001b[0m\u001b[1;33m\u001b[0m\u001b[0m\n\u001b[1;32m-> 1202\u001b[1;33m             \u001b[1;32mreturn\u001b[0m \u001b[0mnp\u001b[0m\u001b[1;33m.\u001b[0m\u001b[0mzeros\u001b[0m\u001b[1;33m(\u001b[0m\u001b[0mself\u001b[0m\u001b[1;33m.\u001b[0m\u001b[0mshape\u001b[0m\u001b[1;33m,\u001b[0m \u001b[0mdtype\u001b[0m\u001b[1;33m=\u001b[0m\u001b[0mself\u001b[0m\u001b[1;33m.\u001b[0m\u001b[0mdtype\u001b[0m\u001b[1;33m,\u001b[0m \u001b[0morder\u001b[0m\u001b[1;33m=\u001b[0m\u001b[0morder\u001b[0m\u001b[1;33m)\u001b[0m\u001b[1;33m\u001b[0m\u001b[1;33m\u001b[0m\u001b[0m\n\u001b[0m\u001b[0;32m   1203\u001b[0m \u001b[1;33m\u001b[0m\u001b[0m\n\u001b[0;32m   1204\u001b[0m \u001b[1;33m\u001b[0m\u001b[0m\n",
      "\u001b[1;31mMemoryError\u001b[0m: Unable to allocate 25.7 GiB for an array with shape (45421, 75827) and data type float64"
     ]
    }
   ],
   "source": [
    "find_real_movie('Toy Story')"
   ]
  },
  {
   "cell_type": "code",
   "execution_count": null,
   "id": "56777ac5",
   "metadata": {},
   "outputs": [],
   "source": []
  }
 ],
 "metadata": {
  "kernelspec": {
   "display_name": "Python 3",
   "language": "python",
   "name": "python3"
  },
  "language_info": {
   "codemirror_mode": {
    "name": "ipython",
    "version": 3
   },
   "file_extension": ".py",
   "mimetype": "text/x-python",
   "name": "python",
   "nbconvert_exporter": "python",
   "pygments_lexer": "ipython3",
   "version": "3.8.8"
  }
 },
 "nbformat": 4,
 "nbformat_minor": 5
}
