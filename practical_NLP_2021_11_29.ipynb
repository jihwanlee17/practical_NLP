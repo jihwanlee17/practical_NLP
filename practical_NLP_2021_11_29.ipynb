{
 "cells": [
  {
   "cell_type": "code",
   "execution_count": 1,
   "id": "9a282d23",
   "metadata": {},
   "outputs": [
    {
     "data": {
      "text/plain": [
       "'\\nPMI(Pointwise Mutual Information): 점별 상호정보량\\n- 동시발생행렬의 값을 확률로 바꾼 것.\\n- 의미론적 연관성을 더 반영한 방법\\n   car이라는 토큰에 대해 \\n   the car, car drive 표현이 등장한다고 했을 때,\\n   the의 출현 빈도가 더 많다고 해도 의미적으로는 drive와 더 연관이 있다.\\n   PMI를 적용하면 car과 drive의 연관성이 더 크도록 drive에 더 높은 확률을 부여한다\\n   \\n\\n- PMI 구하는 공식\\nPMI(x,y) = log2( p(x,y) / ( P(x)*P(y) ) ) #값이 높을수록 관련성 높다.\\n\\n이 식을 동시발생행렬을 사용하여 일반화 하면\\n\\n####################################################\\n\\nC \\n= PMI(x, y)\\n= log2( ( C(x,y)/N ) / ( (C(x)/N) * (C(y)/N) ) )\\n= log2( ( C(x,y)*N ) / ( C(x) * C(y) ) )\\n\\n# C: 동시발생행렬\\n# C(x,y): x단어와 y단어가 동시에 발생하는 횟수\\n# C(x) , C(y): 각 단어가 등장하는 횟수\\n# N: lexicon에 들어있는 전체 단어 개수\\n\\n####################################################\\n\\n\\n그런데 PMI 계산시 두 단어가 서로 동시에 발생하지 않는 경우\\nC(x,y)=0이므로 log2에 0이 들어가게 된다.\\n그런데 log2(0) 의 값은 구할 수 없다. 음의 무한대이기 때문.\\n\\n따라서 log에 0이 들어갈 가능성을 방지하기 위해\\nPPMI(Positive Pointwise Mutual Information)을 이용한다.\\n\\nPPMI는 PMI값이 0 이상이면 해당 PMI 값을 반환하고\\n               0 미만이면 PMI값을 0으로 반환하는 계산방법이다.\\n               \\nC \\n= PPMI(x, y) = max(0, PMI(x,y))  #보통 PPMI를 자주 사용한다.\\n'"
      ]
     },
     "execution_count": 1,
     "metadata": {},
     "output_type": "execute_result"
    }
   ],
   "source": [
    "'''\n",
    "co-occurence matrix(동시발생행렬)\n",
    "- 문장의 토큰별로 window size만큼 좌우의 토큰에 어떤 단어가 몇 번 나타났는지 센 다음\n",
    "나타난 단어에 개수만큼 값을 부여하여 특정 토큰에 대한 벡터를 만든 뒤\n",
    "해당 벡터를 모두 모아 하나의 행렬로 표현한 것.\n",
    "- 즉, 토큰 좌우 단어의 빈도를 값으로 하는 행렬.\n",
    "- 빈도만을 기준으로 값을 채우므로 단어 간 의미적 연관성을 고려하지 않는다.\n",
    "\n",
    "ex) I say hello you say goodbye\n",
    "1. 각 토큰으로 lexicon을 만든다.\n",
    "  --> I, say, hello, you, goodbye\n",
    "  \n",
    "2. lexicon의 각 토큰별로 윈도우 사이즈만큼 좌, 우로 어떤 단어가 나타났는지 확인.\n",
    "  #window size를 1로 설정했다고 가정한다.\n",
    "  1) I --> say\n",
    "  2) say --> I, hello, you, goodbye\n",
    "  3) hello --> say, you\n",
    "  4) you --> hello, say\n",
    "  5) goodbye --> say\n",
    "  \n",
    "3. row, column이 모두 lexicon의 토큰들인 행렬을 만들고 행렬의 값에는 \n",
    "   특정 토큰에 대해 좌우로 등장한 토큰이 있으면(동시발생했다면) \n",
    "   등장한 횟수만큼 수를 채워준다\n",
    "\n",
    "<행렬>\n",
    "\n",
    "         I    say     hello    you    goodbye\n",
    "I        0     1        0       0        0\n",
    "say      1     0        1       1        1\n",
    "hello    0     1        0       1        0\n",
    "you      0     1        1       0        0\n",
    "goodbye  0     1        0       0        0\n",
    "\n",
    "'''\n",
    "\n",
    "'''\n",
    "PMI(Pointwise Mutual Information): 점별 상호정보량\n",
    "- 동시발생행렬의 값을 확률로 바꾼 것.\n",
    "- 의미론적 연관성을 더 반영한 방법\n",
    "   car이라는 토큰에 대해 \n",
    "   the car, car drive 표현이 등장한다고 했을 때,\n",
    "   the의 출현 빈도가 더 많다고 해도 의미적으로는 drive와 더 연관이 있다.\n",
    "   PMI를 적용하면 car과 drive의 연관성이 더 크도록 drive에 더 높은 확률을 부여한다\n",
    "   \n",
    "\n",
    "- PMI 구하는 공식\n",
    "PMI(x,y) = log2( p(x,y) / ( P(x)*P(y) ) ) #값이 높을수록 관련성 높다.\n",
    "\n",
    "이 식을 동시발생행렬을 사용하여 일반화 하면\n",
    "\n",
    "####################################################\n",
    "\n",
    "C \n",
    "= PMI(x, y)\n",
    "= log2( ( C(x,y)/N ) / ( (C(x)/N) * (C(y)/N) ) )\n",
    "= log2( ( C(x,y)*N ) / ( C(x) * C(y) ) )\n",
    "\n",
    "# C: 동시발생행렬\n",
    "# C(x,y): x단어와 y단어가 동시에 발생하는 횟수\n",
    "# C(x) , C(y): 각 단어가 등장하는 횟수\n",
    "# N: lexicon에 들어있는 전체 단어 개수\n",
    "\n",
    "####################################################\n",
    "\n",
    "\n",
    "그런데 PMI 계산시 두 단어가 서로 동시에 발생하지 않는 경우\n",
    "C(x,y)=0이므로 log2에 0이 들어가게 된다.\n",
    "그런데 log2(0) 의 값은 구할 수 없다. 음의 무한대이기 때문.\n",
    "\n",
    "따라서 log에 0이 들어갈 가능성을 방지하기 위해\n",
    "PPMI(Positive Pointwise Mutual Information)을 이용한다.\n",
    "\n",
    "PPMI는 PMI값이 0 이상이면 해당 PMI 값을 반환하고\n",
    "               0 미만이면 PMI값을 0으로 반환하는 계산방법이다.\n",
    "               \n",
    "C \n",
    "= PPMI(x, y) = max(0, PMI(x,y))  #보통 PPMI를 자주 사용한다.\n",
    "'''"
   ]
  },
  {
   "cell_type": "code",
   "execution_count": 4,
   "id": "3f28cb27",
   "metadata": {},
   "outputs": [],
   "source": [
    "import pandas as pd\n",
    "import numpy as np\n",
    "import matplotlib.pyplot as plt\n",
    "import seaborn as sns\n",
    "from sklearn.feature_extraction.text import CountVectorizer"
   ]
  },
  {
   "cell_type": "code",
   "execution_count": 5,
   "id": "56f40378",
   "metadata": {},
   "outputs": [],
   "source": [
    "doc = 'I say hello you say goodbye. Say you love me and I will'"
   ]
  },
  {
   "cell_type": "code",
   "execution_count": 13,
   "id": "0592fefe",
   "metadata": {},
   "outputs": [],
   "source": [
    "#1. CountVectorizer을 이용해서 동시발생행렬 만든다.\n",
    "  # --> preprocessing, lowercap, lexicon 필요함.\n",
    "  #영행렬을 만들어준 뒤\n",
    "  #matrix 업데이트 해준다."
   ]
  },
  {
   "cell_type": "code",
   "execution_count": 9,
   "id": "723106d7",
   "metadata": {},
   "outputs": [
    {
     "data": {
      "text/plain": [
       "<1x9 sparse matrix of type '<class 'numpy.int64'>'\n",
       "\twith 9 stored elements in Compressed Sparse Row format>"
      ]
     },
     "execution_count": 9,
     "metadata": {},
     "output_type": "execute_result"
    }
   ],
   "source": [
    "#token_pattern = r'\\b\\w+\\b' : 단어 경계 안에 단어들이 있음을 알려줌\n",
    "\n",
    "bow = CountVectorizer(stop_words = None, token_pattern = r'\\b\\w+\\b') \n",
    "bow.fit_transform([doc]) #fit_transform은 리스트 형태로 받아야 한다."
   ]
  },
  {
   "cell_type": "code",
   "execution_count": 15,
   "id": "c1f5e3c6",
   "metadata": {
    "scrolled": true
   },
   "outputs": [
    {
     "data": {
      "text/plain": [
       "['and', 'goodbye', 'hello', 'i', 'love', 'me', 'say', 'will', 'you']"
      ]
     },
     "execution_count": 15,
     "metadata": {},
     "output_type": "execute_result"
    }
   ],
   "source": [
    "lexicon = bow.get_feature_names() #문장 내 중복 제거된 단어들을 리스트로 반환(마침표도 제거됨)\n",
    "lexicon"
   ]
  },
  {
   "cell_type": "code",
   "execution_count": 21,
   "id": "4efc14ad",
   "metadata": {},
   "outputs": [
    {
     "data": {
      "text/plain": [
       "2"
      ]
     },
     "execution_count": 21,
     "metadata": {},
     "output_type": "execute_result"
    }
   ],
   "source": [
    "lexicon.index('hello') #리스트.index('단어') : 해당 단어의 인덱스를 반환함."
   ]
  },
  {
   "cell_type": "code",
   "execution_count": 16,
   "id": "c8ca3c19",
   "metadata": {},
   "outputs": [
    {
     "data": {
      "text/plain": [
       "array([[0, 0, 0, 0, 0, 0, 0, 0, 0],\n",
       "       [0, 0, 0, 0, 0, 0, 0, 0, 0],\n",
       "       [0, 0, 0, 0, 0, 0, 0, 0, 0],\n",
       "       [0, 0, 0, 0, 0, 0, 0, 0, 0],\n",
       "       [0, 0, 0, 0, 0, 0, 0, 0, 0],\n",
       "       [0, 0, 0, 0, 0, 0, 0, 0, 0],\n",
       "       [0, 0, 0, 0, 0, 0, 0, 0, 0],\n",
       "       [0, 0, 0, 0, 0, 0, 0, 0, 0],\n",
       "       [0, 0, 0, 0, 0, 0, 0, 0, 0]])"
      ]
     },
     "execution_count": 16,
     "metadata": {},
     "output_type": "execute_result"
    }
   ],
   "source": [
    "n = len(lexicon) #lexicon에 들어있는 단어 개수\n",
    "zero_matrix = np.zeros((n,n), dtype = np.int32)\n",
    "zero_matrix"
   ]
  },
  {
   "cell_type": "code",
   "execution_count": 18,
   "id": "7c497f2e",
   "metadata": {},
   "outputs": [
    {
     "data": {
      "text/plain": [
       "['i',\n",
       " 'say',\n",
       " 'hello',\n",
       " 'you',\n",
       " 'say',\n",
       " 'goodbye',\n",
       " 'say',\n",
       " 'you',\n",
       " 'love',\n",
       " 'me',\n",
       " 'and',\n",
       " 'i',\n",
       " 'will']"
      ]
     },
     "execution_count": 18,
     "metadata": {},
     "output_type": "execute_result"
    }
   ],
   "source": [
    "#토큰 좌, 우로 단어를 각각 1개씩 살펴봄\n",
    "window_size = 1\n",
    "#마침표 제거 후 추후 중복제거를 위해 모두 소문자화함. 그리고 띄어쓰기 단위로 토크나이징\n",
    "word_list = doc.replace('.','').lower().split() \n",
    "word_list # 아직 중복제거는 안 된 상태"
   ]
  },
  {
   "cell_type": "code",
   "execution_count": 19,
   "id": "fafdc7fc",
   "metadata": {},
   "outputs": [
    {
     "data": {
      "text/plain": [
       "array([[0, 0, 0, 1, 0, 1, 0, 0, 0],\n",
       "       [0, 0, 0, 0, 0, 0, 2, 0, 0],\n",
       "       [0, 0, 0, 0, 0, 0, 1, 0, 1],\n",
       "       [1, 0, 0, 0, 0, 0, 1, 1, 0],\n",
       "       [0, 0, 0, 0, 0, 1, 0, 0, 1],\n",
       "       [1, 0, 0, 0, 1, 0, 0, 0, 0],\n",
       "       [0, 2, 1, 1, 0, 0, 0, 0, 2],\n",
       "       [0, 0, 0, 1, 0, 0, 0, 0, 0],\n",
       "       [0, 0, 1, 0, 1, 0, 2, 0, 0]])"
      ]
     },
     "execution_count": 19,
     "metadata": {},
     "output_type": "execute_result"
    }
   ],
   "source": [
    "#focus_word: 해당 토큰\n",
    "#focus_idx : 해당 토큰의 인덱스\n",
    "#context_word : 해당 토큰의 좌, 우에 있는 단어\n",
    "#context_idx: 해당 토큰 좌, 우에 있는 단어의 인덱스\n",
    "#enumerate(시퀀스): 시퀀스의 각 원소에 대해 인덱스와 그 원소를 튜플로 반환하는 함수\n",
    "\n",
    "for focus_idx, focus_word in enumerate(word_list):\n",
    "    #토큰의 왼쪽 단어 인덱스(윈도우 사이즈만큼 참조함)\n",
    "    left = max(0, (focus_idx - window_size)) #최소 0번 인덱스부터 시작\n",
    "    right = min((focus_idx + window_size + 1), len(word_list)) #최대 word_list의 길이까지 인덱스 있음.\n",
    "    \n",
    "    for context_idx in range(left, right): \n",
    "        context_word = word_list[context_idx]\n",
    "        \n",
    "        if context_idx == focus_idx:\n",
    "            pass\n",
    "        else:\n",
    "            if context_word in lexicon:\n",
    "                row_idx = lexicon.index(focus_word) #행\n",
    "                col_idx = lexicon.index(context_word) #열\n",
    "                \n",
    "                zero_matrix[row_idx, col_idx] += 1\n",
    "                \n",
    "zero_matrix"
   ]
  },
  {
   "cell_type": "code",
   "execution_count": 22,
   "id": "e5c37d7c",
   "metadata": {},
   "outputs": [
    {
     "data": {
      "text/html": [
       "<div>\n",
       "<style scoped>\n",
       "    .dataframe tbody tr th:only-of-type {\n",
       "        vertical-align: middle;\n",
       "    }\n",
       "\n",
       "    .dataframe tbody tr th {\n",
       "        vertical-align: top;\n",
       "    }\n",
       "\n",
       "    .dataframe thead th {\n",
       "        text-align: right;\n",
       "    }\n",
       "</style>\n",
       "<table border=\"1\" class=\"dataframe\">\n",
       "  <thead>\n",
       "    <tr style=\"text-align: right;\">\n",
       "      <th></th>\n",
       "      <th>and</th>\n",
       "      <th>goodbye</th>\n",
       "      <th>hello</th>\n",
       "      <th>i</th>\n",
       "      <th>love</th>\n",
       "      <th>me</th>\n",
       "      <th>say</th>\n",
       "      <th>will</th>\n",
       "      <th>you</th>\n",
       "    </tr>\n",
       "  </thead>\n",
       "  <tbody>\n",
       "    <tr>\n",
       "      <th>and</th>\n",
       "      <td>0</td>\n",
       "      <td>0</td>\n",
       "      <td>0</td>\n",
       "      <td>1</td>\n",
       "      <td>0</td>\n",
       "      <td>1</td>\n",
       "      <td>0</td>\n",
       "      <td>0</td>\n",
       "      <td>0</td>\n",
       "    </tr>\n",
       "    <tr>\n",
       "      <th>goodbye</th>\n",
       "      <td>0</td>\n",
       "      <td>0</td>\n",
       "      <td>0</td>\n",
       "      <td>0</td>\n",
       "      <td>0</td>\n",
       "      <td>0</td>\n",
       "      <td>2</td>\n",
       "      <td>0</td>\n",
       "      <td>0</td>\n",
       "    </tr>\n",
       "    <tr>\n",
       "      <th>hello</th>\n",
       "      <td>0</td>\n",
       "      <td>0</td>\n",
       "      <td>0</td>\n",
       "      <td>0</td>\n",
       "      <td>0</td>\n",
       "      <td>0</td>\n",
       "      <td>1</td>\n",
       "      <td>0</td>\n",
       "      <td>1</td>\n",
       "    </tr>\n",
       "    <tr>\n",
       "      <th>i</th>\n",
       "      <td>1</td>\n",
       "      <td>0</td>\n",
       "      <td>0</td>\n",
       "      <td>0</td>\n",
       "      <td>0</td>\n",
       "      <td>0</td>\n",
       "      <td>1</td>\n",
       "      <td>1</td>\n",
       "      <td>0</td>\n",
       "    </tr>\n",
       "    <tr>\n",
       "      <th>love</th>\n",
       "      <td>0</td>\n",
       "      <td>0</td>\n",
       "      <td>0</td>\n",
       "      <td>0</td>\n",
       "      <td>0</td>\n",
       "      <td>1</td>\n",
       "      <td>0</td>\n",
       "      <td>0</td>\n",
       "      <td>1</td>\n",
       "    </tr>\n",
       "    <tr>\n",
       "      <th>me</th>\n",
       "      <td>1</td>\n",
       "      <td>0</td>\n",
       "      <td>0</td>\n",
       "      <td>0</td>\n",
       "      <td>1</td>\n",
       "      <td>0</td>\n",
       "      <td>0</td>\n",
       "      <td>0</td>\n",
       "      <td>0</td>\n",
       "    </tr>\n",
       "    <tr>\n",
       "      <th>say</th>\n",
       "      <td>0</td>\n",
       "      <td>2</td>\n",
       "      <td>1</td>\n",
       "      <td>1</td>\n",
       "      <td>0</td>\n",
       "      <td>0</td>\n",
       "      <td>0</td>\n",
       "      <td>0</td>\n",
       "      <td>2</td>\n",
       "    </tr>\n",
       "    <tr>\n",
       "      <th>will</th>\n",
       "      <td>0</td>\n",
       "      <td>0</td>\n",
       "      <td>0</td>\n",
       "      <td>1</td>\n",
       "      <td>0</td>\n",
       "      <td>0</td>\n",
       "      <td>0</td>\n",
       "      <td>0</td>\n",
       "      <td>0</td>\n",
       "    </tr>\n",
       "    <tr>\n",
       "      <th>you</th>\n",
       "      <td>0</td>\n",
       "      <td>0</td>\n",
       "      <td>1</td>\n",
       "      <td>0</td>\n",
       "      <td>1</td>\n",
       "      <td>0</td>\n",
       "      <td>2</td>\n",
       "      <td>0</td>\n",
       "      <td>0</td>\n",
       "    </tr>\n",
       "  </tbody>\n",
       "</table>\n",
       "</div>"
      ],
      "text/plain": [
       "         and  goodbye  hello  i  love  me  say  will  you\n",
       "and        0        0      0  1     0   1    0     0    0\n",
       "goodbye    0        0      0  0     0   0    2     0    0\n",
       "hello      0        0      0  0     0   0    1     0    1\n",
       "i          1        0      0  0     0   0    1     1    0\n",
       "love       0        0      0  0     0   1    0     0    1\n",
       "me         1        0      0  0     1   0    0     0    0\n",
       "say        0        2      1  1     0   0    0     0    2\n",
       "will       0        0      0  1     0   0    0     0    0\n",
       "you        0        0      1  0     1   0    2     0    0"
      ]
     },
     "execution_count": 22,
     "metadata": {},
     "output_type": "execute_result"
    }
   ],
   "source": [
    "df = pd.DataFrame(zero_matrix, columns = lexicon, index = lexicon)\n",
    "df"
   ]
  },
  {
   "cell_type": "code",
   "execution_count": 23,
   "id": "b237db96",
   "metadata": {},
   "outputs": [
    {
     "data": {
      "image/png": "[encoded data removed]",
      "text/plain": [
       "<Figure size 720x360 with 2 Axes>"
      ]
     },
     "metadata": {
      "needs_background": "light"
     },
     "output_type": "display_data"
    }
   ],
   "source": [
    "plt.figure(figsize=(10,5))\n",
    "sns.heatmap(df,\n",
    "            annot = True,\n",
    "            xticklabels = lexicon,\n",
    "            yticklabels=lexicon,\n",
    "            linewidth=5,\n",
    "            cmap='YlGnBu') #yellow, green, blue\n",
    "\n",
    "plt.title('Co-occurence matrix')\n",
    "plt.show()"
   ]
  },
  {
   "cell_type": "code",
   "execution_count": 24,
   "id": "530e6b5a",
   "metadata": {},
   "outputs": [],
   "source": [
    "#2. 단어들을 인덱스로 처리하여 동시발생행렬 만드는 방법\n",
    "\n",
    "# I say hello you say goodbye\n",
    "# 1  2    3    4   2     5 \n",
    "\n",
    "#위와 같은 방식으로 단어들을 인덱스로 처리하고 \n",
    "#각 인덱스를 이용하여 동시발생행렬을 만든다."
   ]
  },
  {
   "cell_type": "code",
   "execution_count": 25,
   "id": "f7afcca9",
   "metadata": {},
   "outputs": [
    {
     "name": "stdout",
     "output_type": "stream",
     "text": [
      "{'i': 0, 'say': 1, 'hello': 2, 'you': 3, 'goodbye': 4, 'love': 5, 'me': 6, 'and': 7, 'will': 8}\n",
      "{0: 'i', 1: 'say', 2: 'hello', 3: 'you', 4: 'goodbye', 5: 'love', 6: 'me', 7: 'and', 8: 'will'}\n"
     ]
    }
   ],
   "source": [
    "word2idx = dict()\n",
    "idx2word = dict()\n",
    "\n",
    "word_list = doc.replace('.','').lower().split()\n",
    "\n",
    "for word in word_list:\n",
    "    if word not in word2idx:\n",
    "        index = len(word2idx)\n",
    "        word2idx[word] = index\n",
    "        idx2word[index] = word\n",
    "        \n",
    "print(word2idx)\n",
    "print(idx2word)"
   ]
  },
  {
   "cell_type": "code",
   "execution_count": 27,
   "id": "d0b5e9fd",
   "metadata": {},
   "outputs": [
    {
     "name": "stdout",
     "output_type": "stream",
     "text": [
      "['i', 'say', 'hello', 'you', 'say', 'goodbye', 'say', 'you', 'love', 'me', 'and', 'i', 'will']\n",
      "[0, 1, 2, 3, 1, 4, 1, 3, 5, 6, 7, 0, 8]\n"
     ]
    }
   ],
   "source": [
    "#이제 각 토큰을 인덱스로 처리한다.(doc --> idx)\n",
    "\n",
    "doc_idx = [word2idx[word] for word in word_list]\n",
    "print(word_list)\n",
    "print(doc_idx)"
   ]
  },
  {
   "cell_type": "code",
   "execution_count": 28,
   "id": "809f9462",
   "metadata": {},
   "outputs": [
    {
     "name": "stdout",
     "output_type": "stream",
     "text": [
      "13 9\n"
     ]
    },
    {
     "data": {
      "text/plain": [
       "array([[0, 0, 0, 0, 0, 0, 0, 0, 0],\n",
       "       [0, 0, 0, 0, 0, 0, 0, 0, 0],\n",
       "       [0, 0, 0, 0, 0, 0, 0, 0, 0],\n",
       "       [0, 0, 0, 0, 0, 0, 0, 0, 0],\n",
       "       [0, 0, 0, 0, 0, 0, 0, 0, 0],\n",
       "       [0, 0, 0, 0, 0, 0, 0, 0, 0],\n",
       "       [0, 0, 0, 0, 0, 0, 0, 0, 0],\n",
       "       [0, 0, 0, 0, 0, 0, 0, 0, 0],\n",
       "       [0, 0, 0, 0, 0, 0, 0, 0, 0]])"
      ]
     },
     "execution_count": 28,
     "metadata": {},
     "output_type": "execute_result"
    }
   ],
   "source": [
    "#lexicon 길이에 맞춰서 zero_vector을 만들어야 한다.\n",
    "#word_list의 길이도 알아야 한다.\n",
    "\n",
    "doc_size = len(word_list)\n",
    "lexicon_size = len(set(doc_idx)) #각 단어를 인덱스화 한 것을 중복 제거하여 길이 잼.\n",
    "\n",
    "print(doc_size, lexicon_size)\n",
    "\n",
    "zero_matrix = np.zeros((lexicon_size, lexicon_size), dtype = np.int32)\n",
    "\n",
    "zero_matrix"
   ]
  },
  {
   "cell_type": "code",
   "execution_count": 30,
   "id": "8cbf669b",
   "metadata": {},
   "outputs": [
    {
     "data": {
      "text/plain": [
       "array([[0, 1, 0, 0, 0, 0, 0, 1, 1],\n",
       "       [1, 0, 1, 2, 2, 0, 0, 0, 0],\n",
       "       [0, 1, 0, 1, 0, 0, 0, 0, 0],\n",
       "       [0, 2, 1, 0, 0, 1, 0, 0, 0],\n",
       "       [0, 2, 0, 0, 0, 0, 0, 0, 0],\n",
       "       [0, 0, 0, 1, 0, 0, 1, 0, 0],\n",
       "       [0, 0, 0, 0, 0, 1, 0, 1, 0],\n",
       "       [1, 0, 0, 0, 0, 0, 1, 0, 0],\n",
       "       [1, 0, 0, 0, 0, 0, 0, 0, 0]])"
      ]
     },
     "execution_count": 30,
     "metadata": {},
     "output_type": "execute_result"
    }
   ],
   "source": [
    "#각 단어의 인덱스를 하나씩 꺼내오면서 좌우 인덱스 살펴보고 동시발생행렬 만들기\n",
    "\n",
    "#doc_idx == [0, 1, 2, 3, 1, 4, 1, 3, 5, 6, 7, 0, 8]\n",
    "\n",
    "for focus_idx, focus_word_idx in enumerate(doc_idx):\n",
    "    #left, right idx\n",
    "    \n",
    "      # 왼쪽 단어 시작 인덱스는 0부터임. 0일때부터 조건문 수행\n",
    "    left = focus_idx - window_size \n",
    "    right = focus_idx + window_size  # 12 + 1 = 13 \n",
    "      #오른쪽 단어 마지막 인덱스는 12임\n",
    "        # --> 13 나오면 조건문의 조건 불만족하므로 반복문에서 빠져나옴\n",
    "    \n",
    "    if left >= 0:\n",
    "        left_idx = doc_idx[left]\n",
    "        zero_matrix[focus_word_idx, left_idx] += 1\n",
    "        \n",
    "    if right < doc_size:\n",
    "        right_idx = doc_idx[right]\n",
    "        zero_matrix[focus_word_idx, right_idx] += 1\n",
    "zero_matrix"
   ]
  },
  {
   "cell_type": "code",
   "execution_count": 31,
   "id": "a7e4ceca",
   "metadata": {},
   "outputs": [
    {
     "data": {
      "text/html": [
       "<div>\n",
       "<style scoped>\n",
       "    .dataframe tbody tr th:only-of-type {\n",
       "        vertical-align: middle;\n",
       "    }\n",
       "\n",
       "    .dataframe tbody tr th {\n",
       "        vertical-align: top;\n",
       "    }\n",
       "\n",
       "    .dataframe thead th {\n",
       "        text-align: right;\n",
       "    }\n",
       "</style>\n",
       "<table border=\"1\" class=\"dataframe\">\n",
       "  <thead>\n",
       "    <tr style=\"text-align: right;\">\n",
       "      <th></th>\n",
       "      <th>i</th>\n",
       "      <th>say</th>\n",
       "      <th>hello</th>\n",
       "      <th>you</th>\n",
       "      <th>goodbye</th>\n",
       "      <th>love</th>\n",
       "      <th>me</th>\n",
       "      <th>and</th>\n",
       "      <th>will</th>\n",
       "    </tr>\n",
       "  </thead>\n",
       "  <tbody>\n",
       "    <tr>\n",
       "      <th>i</th>\n",
       "      <td>0</td>\n",
       "      <td>1</td>\n",
       "      <td>0</td>\n",
       "      <td>0</td>\n",
       "      <td>0</td>\n",
       "      <td>0</td>\n",
       "      <td>0</td>\n",
       "      <td>1</td>\n",
       "      <td>1</td>\n",
       "    </tr>\n",
       "    <tr>\n",
       "      <th>say</th>\n",
       "      <td>1</td>\n",
       "      <td>0</td>\n",
       "      <td>1</td>\n",
       "      <td>2</td>\n",
       "      <td>2</td>\n",
       "      <td>0</td>\n",
       "      <td>0</td>\n",
       "      <td>0</td>\n",
       "      <td>0</td>\n",
       "    </tr>\n",
       "    <tr>\n",
       "      <th>hello</th>\n",
       "      <td>0</td>\n",
       "      <td>1</td>\n",
       "      <td>0</td>\n",
       "      <td>1</td>\n",
       "      <td>0</td>\n",
       "      <td>0</td>\n",
       "      <td>0</td>\n",
       "      <td>0</td>\n",
       "      <td>0</td>\n",
       "    </tr>\n",
       "    <tr>\n",
       "      <th>you</th>\n",
       "      <td>0</td>\n",
       "      <td>2</td>\n",
       "      <td>1</td>\n",
       "      <td>0</td>\n",
       "      <td>0</td>\n",
       "      <td>1</td>\n",
       "      <td>0</td>\n",
       "      <td>0</td>\n",
       "      <td>0</td>\n",
       "    </tr>\n",
       "    <tr>\n",
       "      <th>goodbye</th>\n",
       "      <td>0</td>\n",
       "      <td>2</td>\n",
       "      <td>0</td>\n",
       "      <td>0</td>\n",
       "      <td>0</td>\n",
       "      <td>0</td>\n",
       "      <td>0</td>\n",
       "      <td>0</td>\n",
       "      <td>0</td>\n",
       "    </tr>\n",
       "    <tr>\n",
       "      <th>love</th>\n",
       "      <td>0</td>\n",
       "      <td>0</td>\n",
       "      <td>0</td>\n",
       "      <td>1</td>\n",
       "      <td>0</td>\n",
       "      <td>0</td>\n",
       "      <td>1</td>\n",
       "      <td>0</td>\n",
       "      <td>0</td>\n",
       "    </tr>\n",
       "    <tr>\n",
       "      <th>me</th>\n",
       "      <td>0</td>\n",
       "      <td>0</td>\n",
       "      <td>0</td>\n",
       "      <td>0</td>\n",
       "      <td>0</td>\n",
       "      <td>1</td>\n",
       "      <td>0</td>\n",
       "      <td>1</td>\n",
       "      <td>0</td>\n",
       "    </tr>\n",
       "    <tr>\n",
       "      <th>and</th>\n",
       "      <td>1</td>\n",
       "      <td>0</td>\n",
       "      <td>0</td>\n",
       "      <td>0</td>\n",
       "      <td>0</td>\n",
       "      <td>0</td>\n",
       "      <td>1</td>\n",
       "      <td>0</td>\n",
       "      <td>0</td>\n",
       "    </tr>\n",
       "    <tr>\n",
       "      <th>will</th>\n",
       "      <td>1</td>\n",
       "      <td>0</td>\n",
       "      <td>0</td>\n",
       "      <td>0</td>\n",
       "      <td>0</td>\n",
       "      <td>0</td>\n",
       "      <td>0</td>\n",
       "      <td>0</td>\n",
       "      <td>0</td>\n",
       "    </tr>\n",
       "  </tbody>\n",
       "</table>\n",
       "</div>"
      ],
      "text/plain": [
       "         i  say  hello  you  goodbye  love  me  and  will\n",
       "i        0    1      0    0        0     0   0    1     1\n",
       "say      1    0      1    2        2     0   0    0     0\n",
       "hello    0    1      0    1        0     0   0    0     0\n",
       "you      0    2      1    0        0     1   0    0     0\n",
       "goodbye  0    2      0    0        0     0   0    0     0\n",
       "love     0    0      0    1        0     0   1    0     0\n",
       "me       0    0      0    0        0     1   0    1     0\n",
       "and      1    0      0    0        0     0   1    0     0\n",
       "will     1    0      0    0        0     0   0    0     0"
      ]
     },
     "execution_count": 31,
     "metadata": {},
     "output_type": "execute_result"
    }
   ],
   "source": [
    "pd.DataFrame(zero_matrix,\n",
    "             columns = idx2word.values(),\n",
    "             index = idx2word.values())"
   ]
  },
  {
   "cell_type": "code",
   "execution_count": 84,
   "id": "9f1c8f3f",
   "metadata": {},
   "outputs": [
    {
     "name": "stdout",
     "output_type": "stream",
     "text": [
      "i\n",
      "you\n",
      "will\n",
      "and\n",
      "love\n"
     ]
    }
   ],
   "source": [
    "from sklearn.metrics.pairwise import cosine_similarity\n",
    "cosine=cosine_similarity(zero_matrix, zero_matrix)\n",
    "word = 'me'\n",
    "idx=word2idx[word]\n",
    "t=np.argsort(cosine[idx])[::-1][1:]\n",
    "\n",
    "count = 0\n",
    "for t in t:\n",
    "    if count < 5:\n",
    "        print(idx2word[t])\n",
    "        count += 1"
   ]
  },
  {
   "cell_type": "code",
   "execution_count": 95,
   "id": "49d3ec81",
   "metadata": {},
   "outputs": [],
   "source": [
    "#document = doc\n",
    "#def most_similar(query, document, top=5): #query넣고 document 넣었을 때 상위 5개 단어 출력.\n",
    "  #동시발생행렬만들고 이 행렬을 이용하여 가장 유사한 단어 5개를 반환하는 함수 만들기.\n",
    "  #예를 들면 say를 넣었을 때 이와 유사한 단어 5개 반환하는 방식\n",
    "  #doc_idx, word2idx, idx2word\n",
    "    \n",
    "def most_similar(query, document, top=5):\n",
    "    window_size = 1\n",
    "    doc = document\n",
    "    word_list = doc.replace('.','').lower().split()\n",
    "    \n",
    "    word2idx = dict()\n",
    "    idx2word = dict()\n",
    "    \n",
    "    for word in word_list:\n",
    "        if word not in word2idx:\n",
    "            index = len(word2idx)\n",
    "            word2idx[word] = index\n",
    "            idx2word[index] = word\n",
    "    \n",
    "    doc_idx = [word2idx[word] for word in word_list]\n",
    "    lexicon_size = len(set(doc_idx))\n",
    "    zero_matrix = np.zeros((lexicon_size, lexicon_size), dtype=np.int32)        \n",
    "    \n",
    "    for focus_idx, focus_word_idx in enumerate(doc_idx):\n",
    "        left = focus_idx - window_size\n",
    "        right = focus_idx + window_size\n",
    "        \n",
    "        if left >= 0 :\n",
    "            left_idx = doc_idx[left]\n",
    "            zero_matrix[focus_word_idx, left_idx] += 1\n",
    "            \n",
    "        if right < len(word_list):\n",
    "            right_idx = doc_idx[right]\n",
    "            zero_matrix[focus_word_idx, right_idx] += 1\n",
    "            \n",
    "            \n",
    "    from sklearn.metrics.pairwise import cosine_similarity\n",
    "    cosine = cosine_similarity(zero_matrix, zero_matrix)\n",
    "    w = query\n",
    "    idx = word2idx[w]\n",
    "    rev_sorted_word_idxs = np.argsort(cosine[idx])[::-1][1:] #자기자신 제외\n",
    "        \n",
    "    count = 0\n",
    "    for i in rev_sorted_word_idxs:\n",
    "        if count < top:\n",
    "            print(idx2word[i])\n",
    "            count += 1\n",
    "                \n",
    "    "
   ]
  },
  {
   "cell_type": "code",
   "execution_count": 96,
   "id": "4be0a0fe",
   "metadata": {},
   "outputs": [
    {
     "name": "stdout",
     "output_type": "stream",
     "text": [
      "i\n",
      "you\n",
      "will\n",
      "and\n",
      "love\n"
     ]
    }
   ],
   "source": [
    "most_similar('me', 'I say hello you say goodbye. Say you love me and I will', top=5)"
   ]
  },
  {
   "cell_type": "code",
   "execution_count": 97,
   "id": "deb73fcd",
   "metadata": {},
   "outputs": [
    {
     "name": "stdout",
     "output_type": "stream",
     "text": [
      "boy\n",
      "say\n",
      "are\n",
      "you\n",
      "am\n"
     ]
    }
   ],
   "source": [
    "document = 'I am a boy and you are a girl and say hiphop'\n",
    "most_similar('girl', document, top=5)"
   ]
  },
  {
   "cell_type": "code",
   "execution_count": null,
   "id": "f39cde14",
   "metadata": {},
   "outputs": [],
   "source": []
  }
 ],
 "metadata": {
  "kernelspec": {
   "display_name": "Python 3",
   "language": "python",
   "name": "python3"
  },
  "language_info": {
   "codemirror_mode": {
    "name": "ipython",
    "version": 3
   },
   "file_extension": ".py",
   "mimetype": "text/x-python",
   "name": "python",
   "nbconvert_exporter": "python",
   "pygments_lexer": "ipython3",
   "version": "3.8.8"
  }
 },
 "nbformat": 4,
 "nbformat_minor": 5
}
